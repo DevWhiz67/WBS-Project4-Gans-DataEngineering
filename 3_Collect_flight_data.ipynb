{
 "cells": [
  {
   "cell_type": "markdown",
   "metadata": {
    "id": "Wu99MtE0j0za"
   },
   "source": [
    "# Collect Flight Data"
   ]
  },
  {
   "cell_type": "code",
   "execution_count": 171,
   "metadata": {
    "executionInfo": {
     "elapsed": 379,
     "status": "ok",
     "timestamp": 1701149713323,
     "user": {
      "displayName": "Liane Gybas",
      "userId": "00850058138446702565"
     },
     "user_tz": -60
    },
    "id": "lIYdn1woOS1n",
    "tags": []
   },
   "outputs": [],
   "source": [
    "import pandas as pd\n",
    "from datetime import datetime, date, timedelta\n",
    "import requests\n",
    "from pytz import timezone"
   ]
  },
  {
   "cell_type": "code",
   "execution_count": 115,
   "metadata": {
    "tags": []
   },
   "outputs": [],
   "source": [
    "# coordinates for Berlin\n",
    "latitudes = [50.110556]\n",
    "longitudes = [8.682222]"
   ]
  },
  {
   "cell_type": "code",
   "execution_count": 116,
   "metadata": {
    "tags": []
   },
   "outputs": [
    {
     "data": {
      "text/plain": [
       "{'searchBy': {'lat': 52.52, 'lon': 13.405},\n",
       " 'count': 1,\n",
       " 'items': [{'icao': 'EDDB',\n",
       "   'iata': 'BER',\n",
       "   'name': 'Berlin Brandenburg',\n",
       "   'shortName': 'Brandenburg',\n",
       "   'municipalityName': 'Berlin',\n",
       "   'location': {'lat': 52.35139, 'lon': 13.493889},\n",
       "   'countryCode': 'DE'}]}"
      ]
     },
     "execution_count": 116,
     "metadata": {},
     "output_type": "execute_result"
    }
   ],
   "source": [
    "url = \"https://aerodatabox.p.rapidapi.com/airports/search/location\"\n",
    "\n",
    "querystring = {\"lat\":latitudes,\"lon\":longitudes,\"radiusKm\":\"50\",\"limit\":\"2\",\"withFlightInfoOnly\":\"true\"}\n",
    "\n",
    "headers = {\n",
    "\t\"X-RapidAPI-Key\": \"b29f63cc15msh418375f14ae6f52p1633c4jsne1771678df40\",\n",
    "\t\"X-RapidAPI-Host\": \"aerodatabox.p.rapidapi.com\"\n",
    "}\n",
    "\n",
    "response = requests.get(url, headers=headers, params=querystring)\n",
    "\n",
    "response.json()"
   ]
  },
  {
   "cell_type": "markdown",
   "metadata": {},
   "source": [
    "## Create a Dataframe with ICAO Codes"
   ]
  },
  {
   "cell_type": "code",
   "execution_count": 124,
   "metadata": {
    "colab": {
     "base_uri": "https://localhost:8080/"
    },
    "executionInfo": {
     "elapsed": 217,
     "status": "ok",
     "timestamp": 1701149784095,
     "user": {
      "displayName": "Liane Gybas",
      "userId": "00850058138446702565"
     },
     "user_tz": -60
    },
    "id": "ycUCZq2abavL",
    "outputId": "241c485d-c765-4a4b-9911-e6ccc1423875",
    "tags": []
   },
   "outputs": [
    {
     "data": {
      "text/html": [
       "<div>\n",
       "<style scoped>\n",
       "    .dataframe tbody tr th:only-of-type {\n",
       "        vertical-align: middle;\n",
       "    }\n",
       "\n",
       "    .dataframe tbody tr th {\n",
       "        vertical-align: top;\n",
       "    }\n",
       "\n",
       "    .dataframe thead th {\n",
       "        text-align: right;\n",
       "    }\n",
       "</style>\n",
       "<table border=\"1\" class=\"dataframe\">\n",
       "  <thead>\n",
       "    <tr style=\"text-align: right;\">\n",
       "      <th></th>\n",
       "      <th>icao</th>\n",
       "      <th>iata</th>\n",
       "      <th>name</th>\n",
       "      <th>shortName</th>\n",
       "      <th>municipalityName</th>\n",
       "      <th>countryCode</th>\n",
       "      <th>location.lat</th>\n",
       "      <th>location.lon</th>\n",
       "    </tr>\n",
       "  </thead>\n",
       "  <tbody>\n",
       "    <tr>\n",
       "      <th>0</th>\n",
       "      <td>EDDB</td>\n",
       "      <td>BER</td>\n",
       "      <td>Berlin Brandenburg</td>\n",
       "      <td>Brandenburg</td>\n",
       "      <td>Berlin</td>\n",
       "      <td>DE</td>\n",
       "      <td>52.35139</td>\n",
       "      <td>13.493889</td>\n",
       "    </tr>\n",
       "    <tr>\n",
       "      <th>1</th>\n",
       "      <td>EDDF</td>\n",
       "      <td>FRA</td>\n",
       "      <td>Frankfurt-am-Main</td>\n",
       "      <td>Frankfurt-am-Main</td>\n",
       "      <td>Frankfurt-am-Main</td>\n",
       "      <td>DE</td>\n",
       "      <td>50.02640</td>\n",
       "      <td>8.543129</td>\n",
       "    </tr>\n",
       "    <tr>\n",
       "      <th>2</th>\n",
       "      <td>EDDK</td>\n",
       "      <td>CGN</td>\n",
       "      <td>Cologne Bonn</td>\n",
       "      <td>Bonn</td>\n",
       "      <td>Cologne</td>\n",
       "      <td>DE</td>\n",
       "      <td>50.86590</td>\n",
       "      <td>7.142739</td>\n",
       "    </tr>\n",
       "    <tr>\n",
       "      <th>3</th>\n",
       "      <td>EDDS</td>\n",
       "      <td>STR</td>\n",
       "      <td>Stuttgart</td>\n",
       "      <td>Stuttgart</td>\n",
       "      <td>Stuttgart</td>\n",
       "      <td>DE</td>\n",
       "      <td>48.68990</td>\n",
       "      <td>9.221960</td>\n",
       "    </tr>\n",
       "    <tr>\n",
       "      <th>4</th>\n",
       "      <td>EDDP</td>\n",
       "      <td>LEJ</td>\n",
       "      <td>Leipzig Halle</td>\n",
       "      <td>Halle</td>\n",
       "      <td>Leipzig</td>\n",
       "      <td>DE</td>\n",
       "      <td>51.43240</td>\n",
       "      <td>12.241600</td>\n",
       "    </tr>\n",
       "  </tbody>\n",
       "</table>\n",
       "</div>"
      ],
      "text/plain": [
       "   icao iata                name          shortName   municipalityName  \\\n",
       "0  EDDB  BER  Berlin Brandenburg        Brandenburg             Berlin   \n",
       "1  EDDF  FRA  Frankfurt-am-Main   Frankfurt-am-Main  Frankfurt-am-Main   \n",
       "2  EDDK  CGN        Cologne Bonn               Bonn            Cologne   \n",
       "3  EDDS  STR          Stuttgart           Stuttgart          Stuttgart   \n",
       "4  EDDP  LEJ       Leipzig Halle              Halle            Leipzig   \n",
       "\n",
       "  countryCode  location.lat  location.lon  \n",
       "0          DE      52.35139     13.493889  \n",
       "1          DE      50.02640      8.543129  \n",
       "2          DE      50.86590      7.142739  \n",
       "3          DE      48.68990      9.221960  \n",
       "4          DE      51.43240     12.241600  "
      ]
     },
     "execution_count": 124,
     "metadata": {},
     "output_type": "execute_result"
    }
   ],
   "source": [
    "def icao_airport_codes(latitudes, longitudes):\n",
    "\n",
    "    list_for_df = []\n",
    "\n",
    "    for index, value in enumerate(latitudes):\n",
    "\n",
    "        url = \"https://aerodatabox.p.rapidapi.com/airports/search/location\"\n",
    "        querystring = {\"lat\":value,\"lon\":longitudes[index],\"radiusKm\":\"50\",\"limit\":\"2\",\"withFlightInfoOnly\":\"true\"}\n",
    "        headers = {\n",
    "            \"X-RapidAPI-Key\": \"b29f63cc15msh418375f14ae6f52p1633c4jsne1771678df40\",\n",
    "            \"X-RapidAPI-Host\": \"aerodatabox.p.rapidapi.com\"\n",
    "        }\n",
    "\n",
    "        response = requests.get(url, headers=headers, params=querystring)\n",
    "        list_for_df.append(pd.json_normalize(response.json()['items']))\n",
    "\n",
    "    return pd.concat(list_for_df, ignore_index=True)\n",
    "\n",
    "# coordinates for Berlin, 'Frankfurt', 'Munich', 'Cologne', 'Stuttgart', 'Leipzig'\n",
    "latitudes = [52.5200, 50.110556, 48.1351, 50.936389, 48.777500, 51.340000]\n",
    "longitudes = [13.4050, 8.682222, 11.5820, 6.952778, 9.180000, 12.375000]\n",
    "\n",
    "icao_airport_codes(latitudes, longitudes)"
   ]
  },
  {
   "cell_type": "markdown",
   "metadata": {},
   "source": [
    "## Setting up the ICAO dataframe"
   ]
  },
  {
   "cell_type": "code",
   "execution_count": 152,
   "metadata": {
    "tags": []
   },
   "outputs": [
    {
     "data": {
      "text/html": [
       "<div>\n",
       "<style scoped>\n",
       "    .dataframe tbody tr th:only-of-type {\n",
       "        vertical-align: middle;\n",
       "    }\n",
       "\n",
       "    .dataframe tbody tr th {\n",
       "        vertical-align: top;\n",
       "    }\n",
       "\n",
       "    .dataframe thead th {\n",
       "        text-align: right;\n",
       "    }\n",
       "</style>\n",
       "<table border=\"1\" class=\"dataframe\">\n",
       "  <thead>\n",
       "    <tr style=\"text-align: right;\">\n",
       "      <th></th>\n",
       "      <th>City</th>\n",
       "      <th>ICAO</th>\n",
       "    </tr>\n",
       "  </thead>\n",
       "  <tbody>\n",
       "    <tr>\n",
       "      <th>0</th>\n",
       "      <td>Berlin</td>\n",
       "      <td>EDDB</td>\n",
       "    </tr>\n",
       "    <tr>\n",
       "      <th>1</th>\n",
       "      <td>Frankfurt</td>\n",
       "      <td>EDDF</td>\n",
       "    </tr>\n",
       "    <tr>\n",
       "      <th>2</th>\n",
       "      <td>Munich</td>\n",
       "      <td>EDDM</td>\n",
       "    </tr>\n",
       "    <tr>\n",
       "      <th>3</th>\n",
       "      <td>Cologne</td>\n",
       "      <td>EDDK</td>\n",
       "    </tr>\n",
       "    <tr>\n",
       "      <th>4</th>\n",
       "      <td>Stuttgart</td>\n",
       "      <td>EDDS</td>\n",
       "    </tr>\n",
       "    <tr>\n",
       "      <th>5</th>\n",
       "      <td>Leipzig</td>\n",
       "      <td>EDDP</td>\n",
       "    </tr>\n",
       "  </tbody>\n",
       "</table>\n",
       "</div>"
      ],
      "text/plain": [
       "        City  ICAO\n",
       "0     Berlin  EDDB\n",
       "1  Frankfurt  EDDF\n",
       "2     Munich  EDDM\n",
       "3    Cologne  EDDK\n",
       "4  Stuttgart  EDDS\n",
       "5    Leipzig  EDDP"
      ]
     },
     "execution_count": 152,
     "metadata": {},
     "output_type": "execute_result"
    }
   ],
   "source": [
    "cities = ['Berlin', 'Frankfurt', 'Munich', 'Cologne', 'Stuttgart', 'Leipzig']\n",
    "icao_codes = ['EDDB', 'EDDF', 'EDDM', 'EDDK', 'EDDS', 'EDDP']\n",
    "\n",
    "icao_df = pd.DataFrame({\n",
    "    'City': cities,\n",
    "    'ICAO': icao_codes\n",
    "})\n",
    "\n",
    "icao_df"
   ]
  },
  {
   "cell_type": "code",
   "execution_count": 180,
   "metadata": {
    "tags": []
   },
   "outputs": [
    {
     "data": {
      "text/html": [
       "<div>\n",
       "<style scoped>\n",
       "    .dataframe tbody tr th:only-of-type {\n",
       "        vertical-align: middle;\n",
       "    }\n",
       "\n",
       "    .dataframe tbody tr th {\n",
       "        vertical-align: top;\n",
       "    }\n",
       "\n",
       "    .dataframe thead th {\n",
       "        text-align: right;\n",
       "    }\n",
       "</style>\n",
       "<table border=\"1\" class=\"dataframe\">\n",
       "  <thead>\n",
       "    <tr style=\"text-align: right;\">\n",
       "      <th></th>\n",
       "      <th>City</th>\n",
       "      <th>ICAO</th>\n",
       "      <th>city_id</th>\n",
       "    </tr>\n",
       "  </thead>\n",
       "  <tbody>\n",
       "    <tr>\n",
       "      <th>0</th>\n",
       "      <td>Berlin</td>\n",
       "      <td>EDDB</td>\n",
       "      <td>1</td>\n",
       "    </tr>\n",
       "    <tr>\n",
       "      <th>1</th>\n",
       "      <td>Frankfurt</td>\n",
       "      <td>EDDF</td>\n",
       "      <td>2</td>\n",
       "    </tr>\n",
       "    <tr>\n",
       "      <th>2</th>\n",
       "      <td>Munich</td>\n",
       "      <td>EDDM</td>\n",
       "      <td>3</td>\n",
       "    </tr>\n",
       "    <tr>\n",
       "      <th>3</th>\n",
       "      <td>Cologne</td>\n",
       "      <td>EDDK</td>\n",
       "      <td>4</td>\n",
       "    </tr>\n",
       "    <tr>\n",
       "      <th>4</th>\n",
       "      <td>Stuttgart</td>\n",
       "      <td>EDDS</td>\n",
       "      <td>5</td>\n",
       "    </tr>\n",
       "    <tr>\n",
       "      <th>5</th>\n",
       "      <td>Leipzig</td>\n",
       "      <td>EDDP</td>\n",
       "      <td>6</td>\n",
       "    </tr>\n",
       "  </tbody>\n",
       "</table>\n",
       "</div>"
      ],
      "text/plain": [
       "        City  ICAO  city_id\n",
       "0     Berlin  EDDB        1\n",
       "1  Frankfurt  EDDF        2\n",
       "2     Munich  EDDM        3\n",
       "3    Cologne  EDDK        4\n",
       "4  Stuttgart  EDDS        5\n",
       "5    Leipzig  EDDP        6"
      ]
     },
     "execution_count": 180,
     "metadata": {},
     "output_type": "execute_result"
    }
   ],
   "source": [
    "icao_df['city_id'] = range(1, len(icao_df) + 1)\n",
    "icao_df"
   ]
  },
  {
   "cell_type": "markdown",
   "metadata": {
    "id": "q3DS1gbq3xG8"
   },
   "source": [
    "## Create a Dataframe with Arrival information"
   ]
  },
  {
   "cell_type": "code",
   "execution_count": 133,
   "metadata": {
    "tags": []
   },
   "outputs": [],
   "source": [
    "url = \"https://aerodatabox.p.rapidapi.com/flights/airports/icao/EDDB/2023-11-28T11:00/2023-11-28T23:00\"\n",
    "\n",
    "querystring = {\"withLeg\":\"false\",\"withCancelled\":\"true\",\"withCodeshared\":\"true\",\"withLocation\":\"false\"}\n",
    "\n",
    "headers = {\n",
    "\t\"X-RapidAPI-Key\": \"b29f63cc15msh418375f14ae6f52p1633c4jsne1771678df40\",\n",
    "\t\"X-RapidAPI-Host\": \"aerodatabox.p.rapidapi.com\"\n",
    "}\n",
    "\n",
    "response = requests.get(url, headers=headers, params=querystring)\n",
    "\n",
    "arrival_information_berlin = response.json()"
   ]
  },
  {
   "cell_type": "code",
   "execution_count": 134,
   "metadata": {
    "tags": []
   },
   "outputs": [],
   "source": [
    "#We will need flight number, status and local revised arrival time\n",
    "#Optional departure airport"
   ]
  },
  {
   "cell_type": "code",
   "execution_count": 135,
   "metadata": {
    "tags": []
   },
   "outputs": [
    {
     "data": {
      "text/html": [
       "<div>\n",
       "<style scoped>\n",
       "    .dataframe tbody tr th:only-of-type {\n",
       "        vertical-align: middle;\n",
       "    }\n",
       "\n",
       "    .dataframe tbody tr th {\n",
       "        vertical-align: top;\n",
       "    }\n",
       "\n",
       "    .dataframe thead th {\n",
       "        text-align: right;\n",
       "    }\n",
       "</style>\n",
       "<table border=\"1\" class=\"dataframe\">\n",
       "  <thead>\n",
       "    <tr style=\"text-align: right;\">\n",
       "      <th></th>\n",
       "      <th>number</th>\n",
       "      <th>callSign</th>\n",
       "      <th>status</th>\n",
       "      <th>codeshareStatus</th>\n",
       "      <th>isCargo</th>\n",
       "      <th>movement.airport.icao</th>\n",
       "      <th>movement.airport.iata</th>\n",
       "      <th>movement.airport.name</th>\n",
       "      <th>movement.scheduledTime.utc</th>\n",
       "      <th>movement.scheduledTime.local</th>\n",
       "      <th>...</th>\n",
       "      <th>movement.baggageBelt</th>\n",
       "      <th>movement.quality</th>\n",
       "      <th>aircraft.reg</th>\n",
       "      <th>aircraft.modeS</th>\n",
       "      <th>aircraft.model</th>\n",
       "      <th>airline.name</th>\n",
       "      <th>airline.iata</th>\n",
       "      <th>airline.icao</th>\n",
       "      <th>movement.runwayTime.utc</th>\n",
       "      <th>movement.runwayTime.local</th>\n",
       "    </tr>\n",
       "  </thead>\n",
       "  <tbody>\n",
       "    <tr>\n",
       "      <th>0</th>\n",
       "      <td>SN 2581</td>\n",
       "      <td>BEL8CE</td>\n",
       "      <td>Arrived</td>\n",
       "      <td>IsOperator</td>\n",
       "      <td>False</td>\n",
       "      <td>EBBR</td>\n",
       "      <td>BRU</td>\n",
       "      <td>Brussels</td>\n",
       "      <td>2023-11-28 10:05Z</td>\n",
       "      <td>2023-11-28 11:05+01:00</td>\n",
       "      <td>...</td>\n",
       "      <td>B4</td>\n",
       "      <td>[Basic, Live]</td>\n",
       "      <td>OO-TCQ</td>\n",
       "      <td>44D071</td>\n",
       "      <td>Airbus A320</td>\n",
       "      <td>Brussels</td>\n",
       "      <td>SN</td>\n",
       "      <td>BEL</td>\n",
       "      <td>NaN</td>\n",
       "      <td>NaN</td>\n",
       "    </tr>\n",
       "    <tr>\n",
       "      <th>1</th>\n",
       "      <td>PC 977</td>\n",
       "      <td>PGT5ML</td>\n",
       "      <td>Arrived</td>\n",
       "      <td>IsOperator</td>\n",
       "      <td>False</td>\n",
       "      <td>LTFJ</td>\n",
       "      <td>SAW</td>\n",
       "      <td>Istanbul</td>\n",
       "      <td>2023-11-28 09:55Z</td>\n",
       "      <td>2023-11-28 10:55+01:00</td>\n",
       "      <td>...</td>\n",
       "      <td>A2</td>\n",
       "      <td>[Basic, Live]</td>\n",
       "      <td>TC-RDR</td>\n",
       "      <td>4BC892</td>\n",
       "      <td>Airbus A321 NEO</td>\n",
       "      <td>Pegasus</td>\n",
       "      <td>PC</td>\n",
       "      <td>PGT</td>\n",
       "      <td>NaN</td>\n",
       "      <td>NaN</td>\n",
       "    </tr>\n",
       "    <tr>\n",
       "      <th>2</th>\n",
       "      <td>BA 992</td>\n",
       "      <td>BAW992G</td>\n",
       "      <td>Arrived</td>\n",
       "      <td>IsOperator</td>\n",
       "      <td>False</td>\n",
       "      <td>EGLL</td>\n",
       "      <td>LHR</td>\n",
       "      <td>London</td>\n",
       "      <td>2023-11-28 10:20Z</td>\n",
       "      <td>2023-11-28 11:20+01:00</td>\n",
       "      <td>...</td>\n",
       "      <td>A3</td>\n",
       "      <td>[Basic, Live]</td>\n",
       "      <td>G-EUOF</td>\n",
       "      <td>400942</td>\n",
       "      <td>Airbus A319</td>\n",
       "      <td>British Airways</td>\n",
       "      <td>BA</td>\n",
       "      <td>BAW</td>\n",
       "      <td>2023-11-28 10:17Z</td>\n",
       "      <td>2023-11-28 11:17+01:00</td>\n",
       "    </tr>\n",
       "    <tr>\n",
       "      <th>3</th>\n",
       "      <td>KL 1823</td>\n",
       "      <td>KLM95E</td>\n",
       "      <td>Arrived</td>\n",
       "      <td>IsOperator</td>\n",
       "      <td>False</td>\n",
       "      <td>EHAM</td>\n",
       "      <td>AMS</td>\n",
       "      <td>Amsterdam</td>\n",
       "      <td>2023-11-28 10:05Z</td>\n",
       "      <td>2023-11-28 11:05+01:00</td>\n",
       "      <td>...</td>\n",
       "      <td>A1</td>\n",
       "      <td>[Basic, Live]</td>\n",
       "      <td>PH-HSD</td>\n",
       "      <td>484EE4</td>\n",
       "      <td>Boeing 737</td>\n",
       "      <td>KLM</td>\n",
       "      <td>KL</td>\n",
       "      <td>KLM</td>\n",
       "      <td>2023-11-28 10:18Z</td>\n",
       "      <td>2023-11-28 11:18+01:00</td>\n",
       "    </tr>\n",
       "    <tr>\n",
       "      <th>4</th>\n",
       "      <td>EW 8001</td>\n",
       "      <td>NaN</td>\n",
       "      <td>Arrived</td>\n",
       "      <td>IsOperator</td>\n",
       "      <td>False</td>\n",
       "      <td>EDDS</td>\n",
       "      <td>STR</td>\n",
       "      <td>Stuttgart</td>\n",
       "      <td>2023-11-28 09:00Z</td>\n",
       "      <td>2023-11-28 10:00+01:00</td>\n",
       "      <td>...</td>\n",
       "      <td>A4</td>\n",
       "      <td>[Basic, Live]</td>\n",
       "      <td>D-AENG</td>\n",
       "      <td>NaN</td>\n",
       "      <td>Airbus A320 NEO</td>\n",
       "      <td>Eurowings</td>\n",
       "      <td>EW</td>\n",
       "      <td>EWG</td>\n",
       "      <td>NaN</td>\n",
       "      <td>NaN</td>\n",
       "    </tr>\n",
       "    <tr>\n",
       "      <th>...</th>\n",
       "      <td>...</td>\n",
       "      <td>...</td>\n",
       "      <td>...</td>\n",
       "      <td>...</td>\n",
       "      <td>...</td>\n",
       "      <td>...</td>\n",
       "      <td>...</td>\n",
       "      <td>...</td>\n",
       "      <td>...</td>\n",
       "      <td>...</td>\n",
       "      <td>...</td>\n",
       "      <td>...</td>\n",
       "      <td>...</td>\n",
       "      <td>...</td>\n",
       "      <td>...</td>\n",
       "      <td>...</td>\n",
       "      <td>...</td>\n",
       "      <td>...</td>\n",
       "      <td>...</td>\n",
       "      <td>...</td>\n",
       "      <td>...</td>\n",
       "    </tr>\n",
       "    <tr>\n",
       "      <th>151</th>\n",
       "      <td>AF 1134</td>\n",
       "      <td>NaN</td>\n",
       "      <td>Expected</td>\n",
       "      <td>IsOperator</td>\n",
       "      <td>False</td>\n",
       "      <td>LFPG</td>\n",
       "      <td>CDG</td>\n",
       "      <td>Paris</td>\n",
       "      <td>2023-11-28 21:40Z</td>\n",
       "      <td>2023-11-28 22:40+01:00</td>\n",
       "      <td>...</td>\n",
       "      <td>A4</td>\n",
       "      <td>[Basic, Live]</td>\n",
       "      <td>NaN</td>\n",
       "      <td>NaN</td>\n",
       "      <td>Airbus A220-300</td>\n",
       "      <td>Air France</td>\n",
       "      <td>AF</td>\n",
       "      <td>AFR</td>\n",
       "      <td>NaN</td>\n",
       "      <td>NaN</td>\n",
       "    </tr>\n",
       "    <tr>\n",
       "      <th>152</th>\n",
       "      <td>EC 5106</td>\n",
       "      <td>NaN</td>\n",
       "      <td>Expected</td>\n",
       "      <td>IsCodeshared</td>\n",
       "      <td>False</td>\n",
       "      <td>LEMG</td>\n",
       "      <td>AGP</td>\n",
       "      <td>Málaga</td>\n",
       "      <td>2023-11-28 21:40Z</td>\n",
       "      <td>2023-11-28 22:40+01:00</td>\n",
       "      <td>...</td>\n",
       "      <td>A3</td>\n",
       "      <td>[Basic, Live]</td>\n",
       "      <td>OE-IWW</td>\n",
       "      <td>440B1E</td>\n",
       "      <td>Airbus A320</td>\n",
       "      <td>EasyJet Europe</td>\n",
       "      <td>EC</td>\n",
       "      <td>EJU</td>\n",
       "      <td>NaN</td>\n",
       "      <td>NaN</td>\n",
       "    </tr>\n",
       "    <tr>\n",
       "      <th>153</th>\n",
       "      <td>U2 5106</td>\n",
       "      <td>NaN</td>\n",
       "      <td>Expected</td>\n",
       "      <td>IsOperator</td>\n",
       "      <td>False</td>\n",
       "      <td>LEMG</td>\n",
       "      <td>AGP</td>\n",
       "      <td>Málaga</td>\n",
       "      <td>2023-11-28 21:40Z</td>\n",
       "      <td>2023-11-28 22:40+01:00</td>\n",
       "      <td>...</td>\n",
       "      <td>A3</td>\n",
       "      <td>[Basic, Live]</td>\n",
       "      <td>OE-IWW</td>\n",
       "      <td>440B1E</td>\n",
       "      <td>Airbus A320</td>\n",
       "      <td>easyJet</td>\n",
       "      <td>U2</td>\n",
       "      <td>EZY</td>\n",
       "      <td>NaN</td>\n",
       "      <td>NaN</td>\n",
       "    </tr>\n",
       "    <tr>\n",
       "      <th>154</th>\n",
       "      <td>FR 9165</td>\n",
       "      <td>NaN</td>\n",
       "      <td>Expected</td>\n",
       "      <td>IsOperator</td>\n",
       "      <td>False</td>\n",
       "      <td>LIPH</td>\n",
       "      <td>TSF</td>\n",
       "      <td>Treviso</td>\n",
       "      <td>2023-11-28 21:45Z</td>\n",
       "      <td>2023-11-28 22:45+01:00</td>\n",
       "      <td>...</td>\n",
       "      <td>C2</td>\n",
       "      <td>[Basic, Live]</td>\n",
       "      <td>9H-QBC</td>\n",
       "      <td>4D2274</td>\n",
       "      <td>Boeing 737-800</td>\n",
       "      <td>Ryanair</td>\n",
       "      <td>FR</td>\n",
       "      <td>RYR</td>\n",
       "      <td>NaN</td>\n",
       "      <td>NaN</td>\n",
       "    </tr>\n",
       "    <tr>\n",
       "      <th>155</th>\n",
       "      <td>FR 176</td>\n",
       "      <td>NaN</td>\n",
       "      <td>Expected</td>\n",
       "      <td>IsOperator</td>\n",
       "      <td>False</td>\n",
       "      <td>EGSS</td>\n",
       "      <td>STN</td>\n",
       "      <td>London</td>\n",
       "      <td>2023-11-28 21:55Z</td>\n",
       "      <td>2023-11-28 22:55+01:00</td>\n",
       "      <td>...</td>\n",
       "      <td>C2</td>\n",
       "      <td>[Basic, Live]</td>\n",
       "      <td>9H-VVE</td>\n",
       "      <td>NaN</td>\n",
       "      <td>Boeing 737 MAX 8</td>\n",
       "      <td>Ryanair</td>\n",
       "      <td>FR</td>\n",
       "      <td>RYR</td>\n",
       "      <td>NaN</td>\n",
       "      <td>NaN</td>\n",
       "    </tr>\n",
       "  </tbody>\n",
       "</table>\n",
       "<p>156 rows × 24 columns</p>\n",
       "</div>"
      ],
      "text/plain": [
       "      number callSign    status codeshareStatus  isCargo  \\\n",
       "0    SN 2581   BEL8CE   Arrived      IsOperator    False   \n",
       "1     PC 977   PGT5ML   Arrived      IsOperator    False   \n",
       "2     BA 992  BAW992G   Arrived      IsOperator    False   \n",
       "3    KL 1823   KLM95E   Arrived      IsOperator    False   \n",
       "4    EW 8001      NaN   Arrived      IsOperator    False   \n",
       "..       ...      ...       ...             ...      ...   \n",
       "151  AF 1134      NaN  Expected      IsOperator    False   \n",
       "152  EC 5106      NaN  Expected    IsCodeshared    False   \n",
       "153  U2 5106      NaN  Expected      IsOperator    False   \n",
       "154  FR 9165      NaN  Expected      IsOperator    False   \n",
       "155   FR 176      NaN  Expected      IsOperator    False   \n",
       "\n",
       "    movement.airport.icao movement.airport.iata movement.airport.name  \\\n",
       "0                    EBBR                   BRU              Brussels   \n",
       "1                    LTFJ                   SAW              Istanbul   \n",
       "2                    EGLL                   LHR                London   \n",
       "3                    EHAM                   AMS             Amsterdam   \n",
       "4                    EDDS                   STR             Stuttgart   \n",
       "..                    ...                   ...                   ...   \n",
       "151                  LFPG                   CDG                 Paris   \n",
       "152                  LEMG                   AGP                Málaga   \n",
       "153                  LEMG                   AGP                Málaga   \n",
       "154                  LIPH                   TSF               Treviso   \n",
       "155                  EGSS                   STN                London   \n",
       "\n",
       "    movement.scheduledTime.utc movement.scheduledTime.local  ...  \\\n",
       "0            2023-11-28 10:05Z       2023-11-28 11:05+01:00  ...   \n",
       "1            2023-11-28 09:55Z       2023-11-28 10:55+01:00  ...   \n",
       "2            2023-11-28 10:20Z       2023-11-28 11:20+01:00  ...   \n",
       "3            2023-11-28 10:05Z       2023-11-28 11:05+01:00  ...   \n",
       "4            2023-11-28 09:00Z       2023-11-28 10:00+01:00  ...   \n",
       "..                         ...                          ...  ...   \n",
       "151          2023-11-28 21:40Z       2023-11-28 22:40+01:00  ...   \n",
       "152          2023-11-28 21:40Z       2023-11-28 22:40+01:00  ...   \n",
       "153          2023-11-28 21:40Z       2023-11-28 22:40+01:00  ...   \n",
       "154          2023-11-28 21:45Z       2023-11-28 22:45+01:00  ...   \n",
       "155          2023-11-28 21:55Z       2023-11-28 22:55+01:00  ...   \n",
       "\n",
       "    movement.baggageBelt movement.quality aircraft.reg aircraft.modeS  \\\n",
       "0                     B4    [Basic, Live]       OO-TCQ         44D071   \n",
       "1                     A2    [Basic, Live]       TC-RDR         4BC892   \n",
       "2                     A3    [Basic, Live]       G-EUOF         400942   \n",
       "3                     A1    [Basic, Live]       PH-HSD         484EE4   \n",
       "4                     A4    [Basic, Live]       D-AENG            NaN   \n",
       "..                   ...              ...          ...            ...   \n",
       "151                   A4    [Basic, Live]          NaN            NaN   \n",
       "152                   A3    [Basic, Live]       OE-IWW         440B1E   \n",
       "153                   A3    [Basic, Live]       OE-IWW         440B1E   \n",
       "154                   C2    [Basic, Live]       9H-QBC         4D2274   \n",
       "155                   C2    [Basic, Live]       9H-VVE            NaN   \n",
       "\n",
       "        aircraft.model     airline.name airline.iata airline.icao  \\\n",
       "0          Airbus A320         Brussels           SN          BEL   \n",
       "1      Airbus A321 NEO          Pegasus           PC          PGT   \n",
       "2          Airbus A319  British Airways           BA          BAW   \n",
       "3           Boeing 737              KLM           KL          KLM   \n",
       "4      Airbus A320 NEO        Eurowings           EW          EWG   \n",
       "..                 ...              ...          ...          ...   \n",
       "151    Airbus A220-300       Air France           AF          AFR   \n",
       "152        Airbus A320   EasyJet Europe           EC          EJU   \n",
       "153        Airbus A320          easyJet           U2          EZY   \n",
       "154     Boeing 737-800          Ryanair           FR          RYR   \n",
       "155  Boeing 737 MAX 8           Ryanair           FR          RYR   \n",
       "\n",
       "    movement.runwayTime.utc movement.runwayTime.local  \n",
       "0                       NaN                       NaN  \n",
       "1                       NaN                       NaN  \n",
       "2         2023-11-28 10:17Z    2023-11-28 11:17+01:00  \n",
       "3         2023-11-28 10:18Z    2023-11-28 11:18+01:00  \n",
       "4                       NaN                       NaN  \n",
       "..                      ...                       ...  \n",
       "151                     NaN                       NaN  \n",
       "152                     NaN                       NaN  \n",
       "153                     NaN                       NaN  \n",
       "154                     NaN                       NaN  \n",
       "155                     NaN                       NaN  \n",
       "\n",
       "[156 rows x 24 columns]"
      ]
     },
     "execution_count": 135,
     "metadata": {},
     "output_type": "execute_result"
    }
   ],
   "source": [
    "pd.json_normalize(arrival_information_berlin['arrivals'])"
   ]
  },
  {
   "cell_type": "code",
   "execution_count": 136,
   "metadata": {
    "tags": []
   },
   "outputs": [
    {
     "data": {
      "text/plain": [
       "{'movement': {'airport': {'icao': 'EBBR', 'iata': 'BRU', 'name': 'Brussels'},\n",
       "  'scheduledTime': {'utc': '2023-11-28 10:05Z',\n",
       "   'local': '2023-11-28 11:05+01:00'},\n",
       "  'revisedTime': {'utc': '2023-11-28 10:05Z',\n",
       "   'local': '2023-11-28 11:05+01:00'},\n",
       "  'terminal': '1',\n",
       "  'gate': 'B20',\n",
       "  'baggageBelt': 'B4',\n",
       "  'quality': ['Basic', 'Live']},\n",
       " 'number': 'SN 2581',\n",
       " 'callSign': 'BEL8CE',\n",
       " 'status': 'Arrived',\n",
       " 'codeshareStatus': 'IsOperator',\n",
       " 'isCargo': False,\n",
       " 'aircraft': {'reg': 'OO-TCQ', 'modeS': '44D071', 'model': 'Airbus A320'},\n",
       " 'airline': {'name': 'Brussels', 'iata': 'SN', 'icao': 'BEL'}}"
      ]
     },
     "execution_count": 136,
     "metadata": {},
     "output_type": "execute_result"
    }
   ],
   "source": [
    "arrival_information_berlin['arrivals'][0]"
   ]
  },
  {
   "cell_type": "code",
   "execution_count": 137,
   "metadata": {
    "tags": []
   },
   "outputs": [
    {
     "data": {
      "text/plain": [
       "{'movement': {'airport': {'icao': 'EGLL', 'iata': 'LHR', 'name': 'London'},\n",
       "  'scheduledTime': {'utc': '2023-11-28 10:00Z',\n",
       "   'local': '2023-11-28 11:00+01:00'},\n",
       "  'revisedTime': {'utc': '2023-11-28 10:00Z',\n",
       "   'local': '2023-11-28 11:00+01:00'},\n",
       "  'runwayTime': {'utc': '2023-11-28 10:17Z',\n",
       "   'local': '2023-11-28 11:17+01:00'},\n",
       "  'terminal': '1',\n",
       "  'checkInDesk': '511-514',\n",
       "  'gate': 'C10',\n",
       "  'quality': ['Basic', 'Live']},\n",
       " 'number': 'BA 991',\n",
       " 'callSign': 'BAW91J',\n",
       " 'status': 'Departed',\n",
       " 'codeshareStatus': 'IsOperator',\n",
       " 'isCargo': False,\n",
       " 'aircraft': {'reg': 'G-EUYW',\n",
       "  'modeS': '406AE3',\n",
       "  'model': 'Airbus A320 (Sharklets)'},\n",
       " 'airline': {'name': 'British Airways', 'iata': 'BA', 'icao': 'BAW'}}"
      ]
     },
     "execution_count": 137,
     "metadata": {},
     "output_type": "execute_result"
    }
   ],
   "source": [
    "arrival_information_berlin['departures'][0]"
   ]
  },
  {
   "cell_type": "code",
   "execution_count": 138,
   "metadata": {
    "tags": []
   },
   "outputs": [
    {
     "data": {
      "text/plain": [
       "'SN 2581'"
      ]
     },
     "execution_count": 138,
     "metadata": {},
     "output_type": "execute_result"
    }
   ],
   "source": [
    "#Flight Number\n",
    "arrival_information_berlin['arrivals'][0]['number']"
   ]
  },
  {
   "cell_type": "code",
   "execution_count": 138,
   "metadata": {
    "tags": []
   },
   "outputs": [
    {
     "data": {
      "text/plain": [
       "'SN 2581'"
      ]
     },
     "execution_count": 138,
     "metadata": {},
     "output_type": "execute_result"
    }
   ],
   "source": [
    "#Flight Number\n",
    "arrival_information_berlin['arrivals'][0]['number']"
   ]
  },
  {
   "cell_type": "code",
   "execution_count": 139,
   "metadata": {
    "tags": []
   },
   "outputs": [
    {
     "data": {
      "text/plain": [
       "'Arrived'"
      ]
     },
     "execution_count": 139,
     "metadata": {},
     "output_type": "execute_result"
    }
   ],
   "source": [
    "#Status\n",
    "arrival_information_berlin['arrivals'][0]['status']"
   ]
  },
  {
   "cell_type": "code",
   "execution_count": 140,
   "metadata": {
    "tags": []
   },
   "outputs": [
    {
     "data": {
      "text/plain": [
       "'Brussels'"
      ]
     },
     "execution_count": 140,
     "metadata": {},
     "output_type": "execute_result"
    }
   ],
   "source": [
    "#Departure Airport\n",
    "arrival_information_berlin['arrivals'][0]['movement']['airport']['name']"
   ]
  },
  {
   "cell_type": "code",
   "execution_count": 141,
   "metadata": {
    "tags": []
   },
   "outputs": [
    {
     "data": {
      "text/plain": [
       "'2023-11-28 11:05+01:00'"
      ]
     },
     "execution_count": 141,
     "metadata": {},
     "output_type": "execute_result"
    }
   ],
   "source": [
    "#Revised arrival time\n",
    "arrival_information_berlin['arrivals'][0]['movement']['revisedTime']['local']"
   ]
  },
  {
   "cell_type": "code",
   "execution_count": 142,
   "metadata": {
    "tags": []
   },
   "outputs": [
    {
     "data": {
      "text/plain": [
       "'2023-11-28 11:05+01:00'"
      ]
     },
     "execution_count": 142,
     "metadata": {},
     "output_type": "execute_result"
    }
   ],
   "source": [
    "#Scheduled arrival time\n",
    "arrival_information_berlin['arrivals'][0]['movement']['scheduledTime']['local']"
   ]
  },
  {
   "cell_type": "code",
   "execution_count": 155,
   "metadata": {
    "tags": []
   },
   "outputs": [
    {
     "data": {
      "text/plain": [
       "'Airbus A320'"
      ]
     },
     "execution_count": 155,
     "metadata": {},
     "output_type": "execute_result"
    }
   ],
   "source": [
    "#Aircraft\n",
    "arrival_information_berlin['arrivals'][0]['aircraft']['model']"
   ]
  },
  {
   "cell_type": "markdown",
   "metadata": {},
   "source": [
    "## Creating a For Loop for the different aiports and adapting the time"
   ]
  },
  {
   "cell_type": "code",
   "execution_count": 32,
   "metadata": {
    "tags": []
   },
   "outputs": [],
   "source": [
    "# ICAO Codes for Berlin, 'Frankfurt', 'Munich', 'Cologne', 'Stuttgart', 'Leipzig'\n",
    "list_of_airports = ['EDDB']\n",
    "#, 'EDDF', 'EDDM', 'EDDK', 'EDDS', 'EDDP']"
   ]
  },
  {
   "cell_type": "code",
   "execution_count": 33,
   "metadata": {
    "tags": []
   },
   "outputs": [
    {
     "data": {
      "text/plain": [
       "'2023-11-28 13:49'"
      ]
     },
     "execution_count": 33,
     "metadata": {},
     "output_type": "execute_result"
    }
   ],
   "source": [
    "current_datetime = datetime.now()\n",
    "time_from = current_datetime.strftime(\"%Y-%m-%d %H:%M\")\n",
    "time_from"
   ]
  },
  {
   "cell_type": "code",
   "execution_count": 34,
   "metadata": {
    "tags": []
   },
   "outputs": [
    {
     "data": {
      "text/plain": [
       "'2023-11-29 01:49'"
      ]
     },
     "execution_count": 34,
     "metadata": {},
     "output_type": "execute_result"
    }
   ],
   "source": [
    "time_to = current_datetime + timedelta(hours=12)\n",
    "time_to = time_to.strftime(\"%Y-%m-%d %H:%M\")\n",
    "time_to"
   ]
  },
  {
   "cell_type": "code",
   "execution_count": 144,
   "metadata": {
    "tags": []
   },
   "outputs": [
    {
     "data": {
      "text/html": [
       "<div>\n",
       "<style scoped>\n",
       "    .dataframe tbody tr th:only-of-type {\n",
       "        vertical-align: middle;\n",
       "    }\n",
       "\n",
       "    .dataframe tbody tr th {\n",
       "        vertical-align: top;\n",
       "    }\n",
       "\n",
       "    .dataframe thead th {\n",
       "        text-align: right;\n",
       "    }\n",
       "</style>\n",
       "<table border=\"1\" class=\"dataframe\">\n",
       "  <thead>\n",
       "    <tr style=\"text-align: right;\">\n",
       "      <th></th>\n",
       "      <th>ICAO</th>\n",
       "      <th>Flight Number</th>\n",
       "      <th>Departure Airport</th>\n",
       "      <th>Status</th>\n",
       "      <th>Scheduled arrival date_time</th>\n",
       "      <th>Revised arrival date_time</th>\n",
       "    </tr>\n",
       "  </thead>\n",
       "  <tbody>\n",
       "    <tr>\n",
       "      <th>0</th>\n",
       "      <td>EDDB</td>\n",
       "      <td>BA 982</td>\n",
       "      <td>London</td>\n",
       "      <td>Arrived</td>\n",
       "      <td>2023-11-28 13:25+01:00</td>\n",
       "      <td>2023-11-28 13:52+01:00</td>\n",
       "    </tr>\n",
       "    <tr>\n",
       "      <th>1</th>\n",
       "      <td>EDDB</td>\n",
       "      <td>LX 966</td>\n",
       "      <td>Zurich</td>\n",
       "      <td>Arrived</td>\n",
       "      <td>2023-11-28 14:05+01:00</td>\n",
       "      <td>2023-11-28 14:06+01:00</td>\n",
       "    </tr>\n",
       "    <tr>\n",
       "      <th>2</th>\n",
       "      <td>EDDB</td>\n",
       "      <td>EC 5366</td>\n",
       "      <td>Prishtina</td>\n",
       "      <td>Arrived</td>\n",
       "      <td>2023-11-28 13:55+01:00</td>\n",
       "      <td>2023-11-28 14:22+01:00</td>\n",
       "    </tr>\n",
       "    <tr>\n",
       "      <th>3</th>\n",
       "      <td>EDDB</td>\n",
       "      <td>U2 5366</td>\n",
       "      <td>Prishtina</td>\n",
       "      <td>Arrived</td>\n",
       "      <td>2023-11-28 13:55+01:00</td>\n",
       "      <td>2023-11-28 14:22+01:00</td>\n",
       "    </tr>\n",
       "    <tr>\n",
       "      <th>4</th>\n",
       "      <td>EDDB</td>\n",
       "      <td>LH 184</td>\n",
       "      <td>Frankfurt-am-Main</td>\n",
       "      <td>Arrived</td>\n",
       "      <td>2023-11-28 13:55+01:00</td>\n",
       "      <td>2023-11-28 14:25+01:00</td>\n",
       "    </tr>\n",
       "    <tr>\n",
       "      <th>...</th>\n",
       "      <td>...</td>\n",
       "      <td>...</td>\n",
       "      <td>...</td>\n",
       "      <td>...</td>\n",
       "      <td>...</td>\n",
       "      <td>...</td>\n",
       "    </tr>\n",
       "    <tr>\n",
       "      <th>111</th>\n",
       "      <td>EDDB</td>\n",
       "      <td>U2 5106</td>\n",
       "      <td>Málaga</td>\n",
       "      <td>Expected</td>\n",
       "      <td>2023-11-28 22:40+01:00</td>\n",
       "      <td>2023-11-28 22:40+01:00</td>\n",
       "    </tr>\n",
       "    <tr>\n",
       "      <th>112</th>\n",
       "      <td>EDDB</td>\n",
       "      <td>FR 9165</td>\n",
       "      <td>Treviso</td>\n",
       "      <td>Expected</td>\n",
       "      <td>2023-11-28 22:45+01:00</td>\n",
       "      <td>2023-11-28 22:45+01:00</td>\n",
       "    </tr>\n",
       "    <tr>\n",
       "      <th>113</th>\n",
       "      <td>EDDB</td>\n",
       "      <td>FR 176</td>\n",
       "      <td>London</td>\n",
       "      <td>Expected</td>\n",
       "      <td>2023-11-28 22:55+01:00</td>\n",
       "      <td>2023-11-28 22:55+01:00</td>\n",
       "    </tr>\n",
       "    <tr>\n",
       "      <th>114</th>\n",
       "      <td>EDDB</td>\n",
       "      <td>I2 3674</td>\n",
       "      <td>Madrid</td>\n",
       "      <td>Expected</td>\n",
       "      <td>2023-11-28 23:05+01:00</td>\n",
       "      <td>2023-11-28 23:05+01:00</td>\n",
       "    </tr>\n",
       "    <tr>\n",
       "      <th>115</th>\n",
       "      <td>EDDB</td>\n",
       "      <td>IB 3674</td>\n",
       "      <td>Madrid</td>\n",
       "      <td>Expected</td>\n",
       "      <td>2023-11-28 23:05+01:00</td>\n",
       "      <td>N/A</td>\n",
       "    </tr>\n",
       "  </tbody>\n",
       "</table>\n",
       "<p>116 rows × 6 columns</p>\n",
       "</div>"
      ],
      "text/plain": [
       "     ICAO Flight Number  Departure Airport    Status  \\\n",
       "0    EDDB        BA 982             London   Arrived   \n",
       "1    EDDB        LX 966             Zurich   Arrived   \n",
       "2    EDDB       EC 5366          Prishtina   Arrived   \n",
       "3    EDDB       U2 5366          Prishtina   Arrived   \n",
       "4    EDDB        LH 184  Frankfurt-am-Main   Arrived   \n",
       "..    ...           ...                ...       ...   \n",
       "111  EDDB       U2 5106             Málaga  Expected   \n",
       "112  EDDB       FR 9165            Treviso  Expected   \n",
       "113  EDDB        FR 176             London  Expected   \n",
       "114  EDDB       I2 3674             Madrid  Expected   \n",
       "115  EDDB       IB 3674             Madrid  Expected   \n",
       "\n",
       "    Scheduled arrival date_time Revised arrival date_time  \n",
       "0        2023-11-28 13:25+01:00    2023-11-28 13:52+01:00  \n",
       "1        2023-11-28 14:05+01:00    2023-11-28 14:06+01:00  \n",
       "2        2023-11-28 13:55+01:00    2023-11-28 14:22+01:00  \n",
       "3        2023-11-28 13:55+01:00    2023-11-28 14:22+01:00  \n",
       "4        2023-11-28 13:55+01:00    2023-11-28 14:25+01:00  \n",
       "..                          ...                       ...  \n",
       "111      2023-11-28 22:40+01:00    2023-11-28 22:40+01:00  \n",
       "112      2023-11-28 22:45+01:00    2023-11-28 22:45+01:00  \n",
       "113      2023-11-28 22:55+01:00    2023-11-28 22:55+01:00  \n",
       "114      2023-11-28 23:05+01:00    2023-11-28 23:05+01:00  \n",
       "115      2023-11-28 23:05+01:00                       N/A  \n",
       "\n",
       "[116 rows x 6 columns]"
      ]
     },
     "execution_count": 144,
     "metadata": {},
     "output_type": "execute_result"
    }
   ],
   "source": [
    "flight_data = []\n",
    "\n",
    "for airport in list_of_airports:\n",
    "    \n",
    "    url = f\"https://aerodatabox.p.rapidapi.com/flights/airports/icao/{airport}/{time_from}/{time_to}\"\n",
    "    querystring = {\"withLeg\":\"false\",\"withCancelled\":\"true\",\"withCodeshared\":\"true\",\"withLocation\":\"false\"}\n",
    "    headers = {\n",
    "        \"X-RapidAPI-Key\": \"b29f63cc15msh418375f14ae6f52p1633c4jsne1771678df40\",\n",
    "        \"X-RapidAPI-Host\": \"aerodatabox.p.rapidapi.com\"}\n",
    "\n",
    "    response = requests.get(url, headers=headers, params=querystring)\n",
    "    flight_json = response.json()\n",
    "\n",
    "    for entry in flight_json['arrivals']:\n",
    "        try:\n",
    "            revised_time = entry['movement']['revisedTime']['local']\n",
    "        except KeyError:\n",
    "            revised_time = 'N/A' \n",
    "\n",
    "        flight_data.append({\n",
    "            \"ICAO\": airport,\n",
    "            \"Flight Number\": entry['number'],\n",
    "            \"Departure Airport\": entry['movement']['airport']['name'],\n",
    "            \"Status\": entry['status'],\n",
    "            \"Scheduled arrival date_time\": entry['movement']['scheduledTime']['local'],\n",
    "            \"Revised arrival date_time\": revised_time\n",
    "        })\n",
    "\n",
    "flight_df = pd.DataFrame(flight_data)\n",
    "flight_df"
   ]
  },
  {
   "cell_type": "code",
   "execution_count": null,
   "metadata": {},
   "outputs": [],
   "source": [
    "# ICAO Codes for Berlin, 'Frankfurt', 'Munich', 'Cologne', 'Stuttgart', 'Leipzig'\n",
    "#list_of_airports = ['EDDB', 'EDDF', 'EDDM', 'EDDK', 'EDDS', 'EDDP']"
   ]
  },
  {
   "cell_type": "markdown",
   "metadata": {},
   "source": [
    "# Final Version with function"
   ]
  },
  {
   "cell_type": "code",
   "execution_count": 9,
   "metadata": {
    "tags": []
   },
   "outputs": [],
   "source": [
    "import pandas as pd\n",
    "from datetime import datetime, date, timedelta\n",
    "import requests\n",
    "from pytz import timezone"
   ]
  },
  {
   "cell_type": "code",
   "execution_count": 10,
   "metadata": {
    "tags": []
   },
   "outputs": [],
   "source": [
    "list_of_airports = ['EDDB', 'EDDF']"
   ]
  },
  {
   "cell_type": "code",
   "execution_count": 1,
   "metadata": {
    "tags": []
   },
   "outputs": [],
   "source": [
    "def get_flight_data(list_of_airports):\n",
    "    \n",
    "    import pandas as pd\n",
    "    import requests\n",
    "    from gans_keys import API_key_aerobox\n",
    "\n",
    "    flight_data = []\n",
    "    \n",
    "    today = datetime.now().astimezone(timezone('Europe/Berlin')).date()\n",
    "    tomorrow = (today + timedelta(days=1))\n",
    "\n",
    "    for airport in list_of_airports:\n",
    "        \n",
    "        times = [[\"00:00\",\"11:59\"],[\"12:00\",\"23:59\"]]\n",
    "\n",
    "        for time in times:\n",
    "            \n",
    "            url = f\"https://aerodatabox.p.rapidapi.com/flights/airports/icao/{airport}/{tomorrow}T{time[0]}/{tomorrow}T{time[1]}\"\n",
    "            querystring = {\"withLeg\":\"false\",\"withCancelled\":\"true\",\"withCodeshared\":\"true\",\"withLocation\":\"false\"}\n",
    "            headers = {\n",
    "                \"X-RapidAPI-Key\": API_key_aerobox,\n",
    "                \"X-RapidAPI-Host\": \"aerodatabox.p.rapidapi.com\"}\n",
    "\n",
    "            response = requests.get(url, headers=headers, params=querystring)\n",
    "            flight_json = response.json()\n",
    "\n",
    "            for entry in flight_json['arrivals']:\n",
    "                try:\n",
    "                    revised_time = entry['movement']['revisedTime']['local']\n",
    "                except KeyError:\n",
    "                    revised_time = 'N/A' \n",
    "                    \n",
    "                try:\n",
    "                    aircraft_model = entry['aircraft']['model']\n",
    "                except KeyError:\n",
    "                    aircraft_model = 'N/A'\n",
    "\n",
    "                flight_data.append({\n",
    "                    \"ICAO\": airport,\n",
    "                    \"Flight_Number\": entry['number'],\n",
    "                    \"Departure_Airport\": entry['movement']['airport']['name'],\n",
    "                    \"Flight_Status\": entry['status'],\n",
    "                    \"Scheduled_arrival_date\": entry['movement']['scheduledTime']['local'],\n",
    "                    \"Revised_arrival_date\": revised_time,\n",
    "                    \"Aircraft\": aircraft_model,\n",
    "                    \"Data_retrieved_on\": today\n",
    "                })\n",
    "\n",
    "    flight_df = pd.DataFrame(flight_data)\n",
    "    return flight_df\n"
   ]
  },
  {
   "cell_type": "code",
   "execution_count": 14,
   "metadata": {
    "tags": []
   },
   "outputs": [
    {
     "data": {
      "text/html": [
       "<div>\n",
       "<style scoped>\n",
       "    .dataframe tbody tr th:only-of-type {\n",
       "        vertical-align: middle;\n",
       "    }\n",
       "\n",
       "    .dataframe tbody tr th {\n",
       "        vertical-align: top;\n",
       "    }\n",
       "\n",
       "    .dataframe thead th {\n",
       "        text-align: right;\n",
       "    }\n",
       "</style>\n",
       "<table border=\"1\" class=\"dataframe\">\n",
       "  <thead>\n",
       "    <tr style=\"text-align: right;\">\n",
       "      <th></th>\n",
       "      <th>ICAO</th>\n",
       "      <th>Flight_Number</th>\n",
       "      <th>Departure_Airport</th>\n",
       "      <th>Flight_Status</th>\n",
       "      <th>Scheduled_arrival_date</th>\n",
       "      <th>Revised_arrival_date</th>\n",
       "      <th>Aircraft</th>\n",
       "      <th>Data_retrieved_on</th>\n",
       "    </tr>\n",
       "  </thead>\n",
       "  <tbody>\n",
       "    <tr>\n",
       "      <th>0</th>\n",
       "      <td>EDDB</td>\n",
       "      <td>QR 79</td>\n",
       "      <td>Doha</td>\n",
       "      <td>Expected</td>\n",
       "      <td>2023-12-02 06:50+01:00</td>\n",
       "      <td>2023-12-02 06:50+01:00</td>\n",
       "      <td>Boeing 787-9</td>\n",
       "      <td>2023-12-01</td>\n",
       "    </tr>\n",
       "    <tr>\n",
       "      <th>1</th>\n",
       "      <td>EDDB</td>\n",
       "      <td>A3 3219</td>\n",
       "      <td>Riga</td>\n",
       "      <td>Expected</td>\n",
       "      <td>2023-12-02 07:55+01:00</td>\n",
       "      <td>2023-12-02 07:55+01:00</td>\n",
       "      <td>Airbus A220-300</td>\n",
       "      <td>2023-12-01</td>\n",
       "    </tr>\n",
       "    <tr>\n",
       "      <th>2</th>\n",
       "      <td>EDDB</td>\n",
       "      <td>BT 211</td>\n",
       "      <td>Riga</td>\n",
       "      <td>Expected</td>\n",
       "      <td>2023-12-02 07:55+01:00</td>\n",
       "      <td>2023-12-02 07:55+01:00</td>\n",
       "      <td>Airbus A220-300</td>\n",
       "      <td>2023-12-01</td>\n",
       "    </tr>\n",
       "    <tr>\n",
       "      <th>3</th>\n",
       "      <td>EDDB</td>\n",
       "      <td>IV 680</td>\n",
       "      <td>Prishtina</td>\n",
       "      <td>Expected</td>\n",
       "      <td>2023-12-02 07:50+01:00</td>\n",
       "      <td>2023-12-02 07:50+01:00</td>\n",
       "      <td>Boeing 737-400</td>\n",
       "      <td>2023-12-01</td>\n",
       "    </tr>\n",
       "    <tr>\n",
       "      <th>4</th>\n",
       "      <td>EDDB</td>\n",
       "      <td>JU 7659</td>\n",
       "      <td>Riga</td>\n",
       "      <td>Expected</td>\n",
       "      <td>2023-12-02 07:55+01:00</td>\n",
       "      <td>2023-12-02 07:55+01:00</td>\n",
       "      <td>Airbus A220-300</td>\n",
       "      <td>2023-12-01</td>\n",
       "    </tr>\n",
       "    <tr>\n",
       "      <th>...</th>\n",
       "      <td>...</td>\n",
       "      <td>...</td>\n",
       "      <td>...</td>\n",
       "      <td>...</td>\n",
       "      <td>...</td>\n",
       "      <td>...</td>\n",
       "      <td>...</td>\n",
       "      <td>...</td>\n",
       "    </tr>\n",
       "    <tr>\n",
       "      <th>2114</th>\n",
       "      <td>EDDF</td>\n",
       "      <td>TK 1597</td>\n",
       "      <td>Istanbul</td>\n",
       "      <td>Expected</td>\n",
       "      <td>2023-12-02 22:05+01:00</td>\n",
       "      <td>2023-12-02 22:05+01:00</td>\n",
       "      <td>Airbus A321 (sharklets)</td>\n",
       "      <td>2023-12-01</td>\n",
       "    </tr>\n",
       "    <tr>\n",
       "      <th>2115</th>\n",
       "      <td>EDDF</td>\n",
       "      <td>TP 574</td>\n",
       "      <td>Lisbon</td>\n",
       "      <td>Expected</td>\n",
       "      <td>2023-12-02 22:40+01:00</td>\n",
       "      <td>2023-12-02 22:40+01:00</td>\n",
       "      <td>Airbus A320</td>\n",
       "      <td>2023-12-01</td>\n",
       "    </tr>\n",
       "    <tr>\n",
       "      <th>2116</th>\n",
       "      <td>EDDF</td>\n",
       "      <td>UA 6902</td>\n",
       "      <td>Istanbul</td>\n",
       "      <td>Expected</td>\n",
       "      <td>2023-12-02 22:05+01:00</td>\n",
       "      <td>2023-12-02 22:05+01:00</td>\n",
       "      <td>Airbus A321 (sharklets)</td>\n",
       "      <td>2023-12-01</td>\n",
       "    </tr>\n",
       "    <tr>\n",
       "      <th>2117</th>\n",
       "      <td>EDDF</td>\n",
       "      <td>VY 5520</td>\n",
       "      <td>Madrid</td>\n",
       "      <td>Expected</td>\n",
       "      <td>2023-12-02 22:45+01:00</td>\n",
       "      <td>2023-12-02 22:45+01:00</td>\n",
       "      <td>Bombardier CRJX</td>\n",
       "      <td>2023-12-01</td>\n",
       "    </tr>\n",
       "    <tr>\n",
       "      <th>2118</th>\n",
       "      <td>EDDF</td>\n",
       "      <td>X3 2139</td>\n",
       "      <td>Fuerteventura Island</td>\n",
       "      <td>Expected</td>\n",
       "      <td>2023-12-02 22:35+01:00</td>\n",
       "      <td>2023-12-02 22:35+01:00</td>\n",
       "      <td>Boeing 737</td>\n",
       "      <td>2023-12-01</td>\n",
       "    </tr>\n",
       "  </tbody>\n",
       "</table>\n",
       "<p>2119 rows × 8 columns</p>\n",
       "</div>"
      ],
      "text/plain": [
       "      ICAO Flight_Number     Departure_Airport Flight_Status  \\\n",
       "0     EDDB         QR 79                  Doha      Expected   \n",
       "1     EDDB       A3 3219                  Riga      Expected   \n",
       "2     EDDB        BT 211                  Riga      Expected   \n",
       "3     EDDB        IV 680             Prishtina      Expected   \n",
       "4     EDDB       JU 7659                  Riga      Expected   \n",
       "...    ...           ...                   ...           ...   \n",
       "2114  EDDF       TK 1597              Istanbul      Expected   \n",
       "2115  EDDF        TP 574                Lisbon      Expected   \n",
       "2116  EDDF       UA 6902              Istanbul      Expected   \n",
       "2117  EDDF       VY 5520                Madrid      Expected   \n",
       "2118  EDDF       X3 2139  Fuerteventura Island      Expected   \n",
       "\n",
       "      Scheduled_arrival_date    Revised_arrival_date                 Aircraft  \\\n",
       "0     2023-12-02 06:50+01:00  2023-12-02 06:50+01:00             Boeing 787-9   \n",
       "1     2023-12-02 07:55+01:00  2023-12-02 07:55+01:00          Airbus A220-300   \n",
       "2     2023-12-02 07:55+01:00  2023-12-02 07:55+01:00          Airbus A220-300   \n",
       "3     2023-12-02 07:50+01:00  2023-12-02 07:50+01:00           Boeing 737-400   \n",
       "4     2023-12-02 07:55+01:00  2023-12-02 07:55+01:00          Airbus A220-300   \n",
       "...                      ...                     ...                      ...   \n",
       "2114  2023-12-02 22:05+01:00  2023-12-02 22:05+01:00  Airbus A321 (sharklets)   \n",
       "2115  2023-12-02 22:40+01:00  2023-12-02 22:40+01:00              Airbus A320   \n",
       "2116  2023-12-02 22:05+01:00  2023-12-02 22:05+01:00  Airbus A321 (sharklets)   \n",
       "2117  2023-12-02 22:45+01:00  2023-12-02 22:45+01:00          Bombardier CRJX   \n",
       "2118  2023-12-02 22:35+01:00  2023-12-02 22:35+01:00               Boeing 737   \n",
       "\n",
       "     Data_retrieved_on  \n",
       "0           2023-12-01  \n",
       "1           2023-12-01  \n",
       "2           2023-12-01  \n",
       "3           2023-12-01  \n",
       "4           2023-12-01  \n",
       "...                ...  \n",
       "2114        2023-12-01  \n",
       "2115        2023-12-01  \n",
       "2116        2023-12-01  \n",
       "2117        2023-12-01  \n",
       "2118        2023-12-01  \n",
       "\n",
       "[2119 rows x 8 columns]"
      ]
     },
     "execution_count": 14,
     "metadata": {},
     "output_type": "execute_result"
    }
   ],
   "source": [
    "flight_df = get_flight_data(list_of_airports)\n",
    "flight_df"
   ]
  },
  {
   "cell_type": "code",
   "execution_count": 15,
   "metadata": {
    "tags": []
   },
   "outputs": [],
   "source": [
    "def clean_flight_data(flight_df):\n",
    "    \n",
    "    flight_df['Scheduled_arrival_date'] = pd.to_datetime(flight_df['Scheduled_arrival_date'])\n",
    "    flight_df['Data_retrieved_on'] = pd.to_datetime(flight_df['Data_retrieved_on'])\n",
    "    flight_df['Revised_arrival_date'] = pd.to_datetime(flight_df['Revised_arrival_date'], errors='coerce')\n",
    "    \n",
    "    return flight_df"
   ]
  },
  {
   "cell_type": "code",
   "execution_count": 16,
   "metadata": {
    "tags": []
   },
   "outputs": [
    {
     "data": {
      "text/html": [
       "<div>\n",
       "<style scoped>\n",
       "    .dataframe tbody tr th:only-of-type {\n",
       "        vertical-align: middle;\n",
       "    }\n",
       "\n",
       "    .dataframe tbody tr th {\n",
       "        vertical-align: top;\n",
       "    }\n",
       "\n",
       "    .dataframe thead th {\n",
       "        text-align: right;\n",
       "    }\n",
       "</style>\n",
       "<table border=\"1\" class=\"dataframe\">\n",
       "  <thead>\n",
       "    <tr style=\"text-align: right;\">\n",
       "      <th></th>\n",
       "      <th>ICAO</th>\n",
       "      <th>Flight_Number</th>\n",
       "      <th>Departure_Airport</th>\n",
       "      <th>Flight_Status</th>\n",
       "      <th>Scheduled_arrival_date</th>\n",
       "      <th>Revised_arrival_date</th>\n",
       "      <th>Aircraft</th>\n",
       "      <th>Data_retrieved_on</th>\n",
       "    </tr>\n",
       "  </thead>\n",
       "  <tbody>\n",
       "    <tr>\n",
       "      <th>0</th>\n",
       "      <td>EDDB</td>\n",
       "      <td>QR 79</td>\n",
       "      <td>Doha</td>\n",
       "      <td>Expected</td>\n",
       "      <td>2023-12-02 06:50:00+01:00</td>\n",
       "      <td>2023-12-02 06:50:00+01:00</td>\n",
       "      <td>Boeing 787-9</td>\n",
       "      <td>2023-12-01</td>\n",
       "    </tr>\n",
       "    <tr>\n",
       "      <th>1</th>\n",
       "      <td>EDDB</td>\n",
       "      <td>A3 3219</td>\n",
       "      <td>Riga</td>\n",
       "      <td>Expected</td>\n",
       "      <td>2023-12-02 07:55:00+01:00</td>\n",
       "      <td>2023-12-02 07:55:00+01:00</td>\n",
       "      <td>Airbus A220-300</td>\n",
       "      <td>2023-12-01</td>\n",
       "    </tr>\n",
       "    <tr>\n",
       "      <th>2</th>\n",
       "      <td>EDDB</td>\n",
       "      <td>BT 211</td>\n",
       "      <td>Riga</td>\n",
       "      <td>Expected</td>\n",
       "      <td>2023-12-02 07:55:00+01:00</td>\n",
       "      <td>2023-12-02 07:55:00+01:00</td>\n",
       "      <td>Airbus A220-300</td>\n",
       "      <td>2023-12-01</td>\n",
       "    </tr>\n",
       "    <tr>\n",
       "      <th>3</th>\n",
       "      <td>EDDB</td>\n",
       "      <td>IV 680</td>\n",
       "      <td>Prishtina</td>\n",
       "      <td>Expected</td>\n",
       "      <td>2023-12-02 07:50:00+01:00</td>\n",
       "      <td>2023-12-02 07:50:00+01:00</td>\n",
       "      <td>Boeing 737-400</td>\n",
       "      <td>2023-12-01</td>\n",
       "    </tr>\n",
       "    <tr>\n",
       "      <th>4</th>\n",
       "      <td>EDDB</td>\n",
       "      <td>JU 7659</td>\n",
       "      <td>Riga</td>\n",
       "      <td>Expected</td>\n",
       "      <td>2023-12-02 07:55:00+01:00</td>\n",
       "      <td>2023-12-02 07:55:00+01:00</td>\n",
       "      <td>Airbus A220-300</td>\n",
       "      <td>2023-12-01</td>\n",
       "    </tr>\n",
       "    <tr>\n",
       "      <th>...</th>\n",
       "      <td>...</td>\n",
       "      <td>...</td>\n",
       "      <td>...</td>\n",
       "      <td>...</td>\n",
       "      <td>...</td>\n",
       "      <td>...</td>\n",
       "      <td>...</td>\n",
       "      <td>...</td>\n",
       "    </tr>\n",
       "    <tr>\n",
       "      <th>2114</th>\n",
       "      <td>EDDF</td>\n",
       "      <td>TK 1597</td>\n",
       "      <td>Istanbul</td>\n",
       "      <td>Expected</td>\n",
       "      <td>2023-12-02 22:05:00+01:00</td>\n",
       "      <td>2023-12-02 22:05:00+01:00</td>\n",
       "      <td>Airbus A321 (sharklets)</td>\n",
       "      <td>2023-12-01</td>\n",
       "    </tr>\n",
       "    <tr>\n",
       "      <th>2115</th>\n",
       "      <td>EDDF</td>\n",
       "      <td>TP 574</td>\n",
       "      <td>Lisbon</td>\n",
       "      <td>Expected</td>\n",
       "      <td>2023-12-02 22:40:00+01:00</td>\n",
       "      <td>2023-12-02 22:40:00+01:00</td>\n",
       "      <td>Airbus A320</td>\n",
       "      <td>2023-12-01</td>\n",
       "    </tr>\n",
       "    <tr>\n",
       "      <th>2116</th>\n",
       "      <td>EDDF</td>\n",
       "      <td>UA 6902</td>\n",
       "      <td>Istanbul</td>\n",
       "      <td>Expected</td>\n",
       "      <td>2023-12-02 22:05:00+01:00</td>\n",
       "      <td>2023-12-02 22:05:00+01:00</td>\n",
       "      <td>Airbus A321 (sharklets)</td>\n",
       "      <td>2023-12-01</td>\n",
       "    </tr>\n",
       "    <tr>\n",
       "      <th>2117</th>\n",
       "      <td>EDDF</td>\n",
       "      <td>VY 5520</td>\n",
       "      <td>Madrid</td>\n",
       "      <td>Expected</td>\n",
       "      <td>2023-12-02 22:45:00+01:00</td>\n",
       "      <td>2023-12-02 22:45:00+01:00</td>\n",
       "      <td>Bombardier CRJX</td>\n",
       "      <td>2023-12-01</td>\n",
       "    </tr>\n",
       "    <tr>\n",
       "      <th>2118</th>\n",
       "      <td>EDDF</td>\n",
       "      <td>X3 2139</td>\n",
       "      <td>Fuerteventura Island</td>\n",
       "      <td>Expected</td>\n",
       "      <td>2023-12-02 22:35:00+01:00</td>\n",
       "      <td>2023-12-02 22:35:00+01:00</td>\n",
       "      <td>Boeing 737</td>\n",
       "      <td>2023-12-01</td>\n",
       "    </tr>\n",
       "  </tbody>\n",
       "</table>\n",
       "<p>2119 rows × 8 columns</p>\n",
       "</div>"
      ],
      "text/plain": [
       "      ICAO Flight_Number     Departure_Airport Flight_Status  \\\n",
       "0     EDDB         QR 79                  Doha      Expected   \n",
       "1     EDDB       A3 3219                  Riga      Expected   \n",
       "2     EDDB        BT 211                  Riga      Expected   \n",
       "3     EDDB        IV 680             Prishtina      Expected   \n",
       "4     EDDB       JU 7659                  Riga      Expected   \n",
       "...    ...           ...                   ...           ...   \n",
       "2114  EDDF       TK 1597              Istanbul      Expected   \n",
       "2115  EDDF        TP 574                Lisbon      Expected   \n",
       "2116  EDDF       UA 6902              Istanbul      Expected   \n",
       "2117  EDDF       VY 5520                Madrid      Expected   \n",
       "2118  EDDF       X3 2139  Fuerteventura Island      Expected   \n",
       "\n",
       "        Scheduled_arrival_date      Revised_arrival_date  \\\n",
       "0    2023-12-02 06:50:00+01:00 2023-12-02 06:50:00+01:00   \n",
       "1    2023-12-02 07:55:00+01:00 2023-12-02 07:55:00+01:00   \n",
       "2    2023-12-02 07:55:00+01:00 2023-12-02 07:55:00+01:00   \n",
       "3    2023-12-02 07:50:00+01:00 2023-12-02 07:50:00+01:00   \n",
       "4    2023-12-02 07:55:00+01:00 2023-12-02 07:55:00+01:00   \n",
       "...                        ...                       ...   \n",
       "2114 2023-12-02 22:05:00+01:00 2023-12-02 22:05:00+01:00   \n",
       "2115 2023-12-02 22:40:00+01:00 2023-12-02 22:40:00+01:00   \n",
       "2116 2023-12-02 22:05:00+01:00 2023-12-02 22:05:00+01:00   \n",
       "2117 2023-12-02 22:45:00+01:00 2023-12-02 22:45:00+01:00   \n",
       "2118 2023-12-02 22:35:00+01:00 2023-12-02 22:35:00+01:00   \n",
       "\n",
       "                     Aircraft Data_retrieved_on  \n",
       "0                Boeing 787-9        2023-12-01  \n",
       "1             Airbus A220-300        2023-12-01  \n",
       "2             Airbus A220-300        2023-12-01  \n",
       "3              Boeing 737-400        2023-12-01  \n",
       "4             Airbus A220-300        2023-12-01  \n",
       "...                       ...               ...  \n",
       "2114  Airbus A321 (sharklets)        2023-12-01  \n",
       "2115              Airbus A320        2023-12-01  \n",
       "2116  Airbus A321 (sharklets)        2023-12-01  \n",
       "2117          Bombardier CRJX        2023-12-01  \n",
       "2118               Boeing 737        2023-12-01  \n",
       "\n",
       "[2119 rows x 8 columns]"
      ]
     },
     "execution_count": 16,
     "metadata": {},
     "output_type": "execute_result"
    }
   ],
   "source": [
    "flight_df_final = clean_flight_data(flight_df)\n",
    "flight_df_final"
   ]
  },
  {
   "cell_type": "code",
   "execution_count": 17,
   "metadata": {
    "tags": []
   },
   "outputs": [
    {
     "name": "stdout",
     "output_type": "stream",
     "text": [
      "<class 'pandas.core.frame.DataFrame'>\n",
      "RangeIndex: 2119 entries, 0 to 2118\n",
      "Data columns (total 8 columns):\n",
      " #   Column                  Non-Null Count  Dtype                    \n",
      "---  ------                  --------------  -----                    \n",
      " 0   ICAO                    2119 non-null   object                   \n",
      " 1   Flight_Number           2119 non-null   object                   \n",
      " 2   Departure_Airport       2119 non-null   object                   \n",
      " 3   Flight_Status           2119 non-null   object                   \n",
      " 4   Scheduled_arrival_date  2119 non-null   datetime64[ns, UTC+01:00]\n",
      " 5   Revised_arrival_date    2112 non-null   datetime64[ns, UTC+01:00]\n",
      " 6   Aircraft                2119 non-null   object                   \n",
      " 7   Data_retrieved_on       2119 non-null   datetime64[ns]           \n",
      "dtypes: datetime64[ns, UTC+01:00](2), datetime64[ns](1), object(5)\n",
      "memory usage: 132.6+ KB\n"
     ]
    }
   ],
   "source": [
    "flight_df_final.info()"
   ]
  },
  {
   "cell_type": "markdown",
   "metadata": {},
   "source": [
    "# Export Data to MySQL"
   ]
  },
  {
   "cell_type": "code",
   "execution_count": 18,
   "metadata": {
    "tags": []
   },
   "outputs": [],
   "source": [
    "import sqlalchemy\n",
    "from gans_con import con"
   ]
  },
  {
   "cell_type": "code",
   "execution_count": 19,
   "metadata": {
    "tags": []
   },
   "outputs": [
    {
     "data": {
      "text/plain": [
       "2119"
      ]
     },
     "execution_count": 19,
     "metadata": {},
     "output_type": "execute_result"
    }
   ],
   "source": [
    "flight_df_final.to_sql('flights',\n",
    "              if_exists='append',\n",
    "              con=con,\n",
    "              index=False)"
   ]
  },
  {
   "cell_type": "markdown",
   "metadata": {
    "tags": []
   },
   "source": [
    "# Export Data to MySQL on AWS cloud server"
   ]
  },
  {
   "cell_type": "code",
   "execution_count": 20,
   "metadata": {
    "tags": []
   },
   "outputs": [],
   "source": [
    "import sqlalchemy\n",
    "from gans_con_aws import con"
   ]
  },
  {
   "cell_type": "code",
   "execution_count": 24,
   "metadata": {
    "tags": []
   },
   "outputs": [],
   "source": [
    "flight_df_2 = flight_df_final"
   ]
  },
  {
   "cell_type": "code",
   "execution_count": 25,
   "metadata": {
    "tags": []
   },
   "outputs": [
    {
     "data": {
      "text/plain": [
       "ICAO\n",
       "EDDF    1918\n",
       "EDDB     201\n",
       "Name: count, dtype: int64"
      ]
     },
     "execution_count": 25,
     "metadata": {},
     "output_type": "execute_result"
    }
   ],
   "source": [
    "flight_df_2['ICAO'].value_counts()"
   ]
  },
  {
   "cell_type": "code",
   "execution_count": 26,
   "metadata": {
    "tags": []
   },
   "outputs": [
    {
     "data": {
      "text/plain": [
       "2119"
      ]
     },
     "execution_count": 26,
     "metadata": {},
     "output_type": "execute_result"
    }
   ],
   "source": [
    "flight_df_2.to_sql('flights',\n",
    "              if_exists='append',\n",
    "              con=con,\n",
    "              index=False)"
   ]
  },
  {
   "cell_type": "code",
   "execution_count": null,
   "metadata": {},
   "outputs": [],
   "source": []
  },
  {
   "cell_type": "markdown",
   "metadata": {},
   "source": [
    "# Old version"
   ]
  },
  {
   "cell_type": "code",
   "execution_count": 176,
   "metadata": {
    "tags": []
   },
   "outputs": [],
   "source": [
    "def get_flight_data(list_of_airports):\n",
    "    \n",
    "    flight_data = []\n",
    "    \n",
    "    current_datetime = datetime.now()\n",
    "    time_from = current_datetime.strftime(\"%Y-%m-%d %H:%M\")\n",
    "    time_to = current_datetime + timedelta(hours=12)\n",
    "    time_to = time_to.strftime(\"%Y-%m-%d %H:%M\")\n",
    "\n",
    "    for airport in list_of_airports:\n",
    "\n",
    "        url = f\"https://aerodatabox.p.rapidapi.com/flights/airports/icao/{airport}/{time_from}/{time_to}\"\n",
    "        querystring = {\"withLeg\":\"false\",\"withCancelled\":\"true\",\"withCodeshared\":\"true\",\"withLocation\":\"false\"}\n",
    "        headers = {\n",
    "            \"X-RapidAPI-Key\": \"b29f63cc15msh418375f14ae6f52p1633c4jsne1771678df40\",\n",
    "            \"X-RapidAPI-Host\": \"aerodatabox.p.rapidapi.com\"}\n",
    "\n",
    "        response = requests.get(url, headers=headers, params=querystring)\n",
    "        flight_json = response.json()\n",
    "\n",
    "        for entry in flight_json['arrivals']:\n",
    "\n",
    "            flight_data.append({\n",
    "                \"Arrival ICAO\": airport,\n",
    "                \"Flight Number\": entry['number'],\n",
    "                \"Departure Airport\": entry['movement']['airport']['name'],\n",
    "                \"Scheduled arrival date_time\": entry['movement']['scheduledTime']['local'],\n",
    "                \"Aircraft\": entry['aircraft']['model'],\n",
    "                \"Data retrieved on\": time_from\n",
    "            })\n",
    "\n",
    "    flight_df = pd.DataFrame(flight_data)\n",
    "    return flight_df"
   ]
  },
  {
   "cell_type": "markdown",
   "metadata": {},
   "source": [
    "## Change data types and spilt up dates and time"
   ]
  },
  {
   "cell_type": "code",
   "execution_count": 62,
   "metadata": {
    "tags": []
   },
   "outputs": [],
   "source": [
    "flight_df['Scheduled arrival date_time'] = pd.to_datetime(flight_df['Scheduled arrival date_time'])\n",
    "flight_df['Revised arrival date_time'] = pd.to_datetime(flight_df['Revised arrival date_time'], errors='coerce')"
   ]
  },
  {
   "cell_type": "code",
   "execution_count": 63,
   "metadata": {
    "tags": []
   },
   "outputs": [
    {
     "name": "stdout",
     "output_type": "stream",
     "text": [
      "<class 'pandas.core.frame.DataFrame'>\n",
      "RangeIndex: 113 entries, 0 to 112\n",
      "Data columns (total 5 columns):\n",
      " #   Column                       Non-Null Count  Dtype                    \n",
      "---  ------                       --------------  -----                    \n",
      " 0   Flight Number                113 non-null    object                   \n",
      " 1   Departure Airport            113 non-null    object                   \n",
      " 2   Status                       113 non-null    object                   \n",
      " 3   Scheduled arrival date_time  113 non-null    datetime64[ns, UTC+01:00]\n",
      " 4   Revised arrival date_time    111 non-null    datetime64[ns, UTC+01:00]\n",
      "dtypes: datetime64[ns, UTC+01:00](2), object(3)\n",
      "memory usage: 4.5+ KB\n"
     ]
    }
   ],
   "source": [
    "flight_df.info()"
   ]
  },
  {
   "cell_type": "code",
   "execution_count": 64,
   "metadata": {
    "tags": []
   },
   "outputs": [],
   "source": [
    "flight_df['Scheduled arrival date'] = flight_df['Scheduled arrival date_time'].dt.date\n",
    "flight_df['Scheduled arrival time'] = flight_df['Scheduled arrival date_time'].dt.time"
   ]
  },
  {
   "cell_type": "code",
   "execution_count": 65,
   "metadata": {
    "tags": []
   },
   "outputs": [],
   "source": [
    "flight_df['Revised arrival date'] = flight_df['Revised arrival date_time'].dt.date\n",
    "flight_df['Revised arrival time'] = flight_df['Revised arrival date_time'].dt.time"
   ]
  },
  {
   "cell_type": "code",
   "execution_count": 66,
   "metadata": {
    "tags": []
   },
   "outputs": [
    {
     "data": {
      "text/html": [
       "<div>\n",
       "<style scoped>\n",
       "    .dataframe tbody tr th:only-of-type {\n",
       "        vertical-align: middle;\n",
       "    }\n",
       "\n",
       "    .dataframe tbody tr th {\n",
       "        vertical-align: top;\n",
       "    }\n",
       "\n",
       "    .dataframe thead th {\n",
       "        text-align: right;\n",
       "    }\n",
       "</style>\n",
       "<table border=\"1\" class=\"dataframe\">\n",
       "  <thead>\n",
       "    <tr style=\"text-align: right;\">\n",
       "      <th></th>\n",
       "      <th>Flight Number</th>\n",
       "      <th>Departure Airport</th>\n",
       "      <th>Status</th>\n",
       "      <th>Scheduled arrival date_time</th>\n",
       "      <th>Revised arrival date_time</th>\n",
       "      <th>Scheduled arrival date</th>\n",
       "      <th>Scheduled arrival time</th>\n",
       "      <th>Revised arrival date</th>\n",
       "      <th>Revised arrival time</th>\n",
       "    </tr>\n",
       "  </thead>\n",
       "  <tbody>\n",
       "    <tr>\n",
       "      <th>0</th>\n",
       "      <td>EC 5148</td>\n",
       "      <td>Paris</td>\n",
       "      <td>Delayed</td>\n",
       "      <td>2023-11-28 13:25:00+01:00</td>\n",
       "      <td>2023-11-28 14:37:00+01:00</td>\n",
       "      <td>2023-11-28</td>\n",
       "      <td>13:25:00</td>\n",
       "      <td>2023-11-28</td>\n",
       "      <td>14:37:00</td>\n",
       "    </tr>\n",
       "    <tr>\n",
       "      <th>1</th>\n",
       "      <td>EC 5366</td>\n",
       "      <td>Prishtina</td>\n",
       "      <td>Delayed</td>\n",
       "      <td>2023-11-28 13:55:00+01:00</td>\n",
       "      <td>2023-11-28 14:22:00+01:00</td>\n",
       "      <td>2023-11-28</td>\n",
       "      <td>13:55:00</td>\n",
       "      <td>2023-11-28</td>\n",
       "      <td>14:22:00</td>\n",
       "    </tr>\n",
       "    <tr>\n",
       "      <th>2</th>\n",
       "      <td>LH 184</td>\n",
       "      <td>Frankfurt-am-Main</td>\n",
       "      <td>Delayed</td>\n",
       "      <td>2023-11-28 13:55:00+01:00</td>\n",
       "      <td>2023-11-28 14:28:00+01:00</td>\n",
       "      <td>2023-11-28</td>\n",
       "      <td>13:55:00</td>\n",
       "      <td>2023-11-28</td>\n",
       "      <td>14:28:00</td>\n",
       "    </tr>\n",
       "    <tr>\n",
       "      <th>3</th>\n",
       "      <td>BA 982</td>\n",
       "      <td>London</td>\n",
       "      <td>Arrived</td>\n",
       "      <td>2023-11-28 13:25:00+01:00</td>\n",
       "      <td>2023-11-28 13:51:00+01:00</td>\n",
       "      <td>2023-11-28</td>\n",
       "      <td>13:25:00</td>\n",
       "      <td>2023-11-28</td>\n",
       "      <td>13:51:00</td>\n",
       "    </tr>\n",
       "    <tr>\n",
       "      <th>4</th>\n",
       "      <td>U2 5148</td>\n",
       "      <td>Paris</td>\n",
       "      <td>Delayed</td>\n",
       "      <td>2023-11-28 13:25:00+01:00</td>\n",
       "      <td>2023-11-28 14:37:00+01:00</td>\n",
       "      <td>2023-11-28</td>\n",
       "      <td>13:25:00</td>\n",
       "      <td>2023-11-28</td>\n",
       "      <td>14:37:00</td>\n",
       "    </tr>\n",
       "    <tr>\n",
       "      <th>...</th>\n",
       "      <td>...</td>\n",
       "      <td>...</td>\n",
       "      <td>...</td>\n",
       "      <td>...</td>\n",
       "      <td>...</td>\n",
       "      <td>...</td>\n",
       "      <td>...</td>\n",
       "      <td>...</td>\n",
       "      <td>...</td>\n",
       "    </tr>\n",
       "    <tr>\n",
       "      <th>108</th>\n",
       "      <td>U2 5108</td>\n",
       "      <td>Barcelona</td>\n",
       "      <td>Expected</td>\n",
       "      <td>2023-11-28 22:30:00+01:00</td>\n",
       "      <td>2023-11-28 22:30:00+01:00</td>\n",
       "      <td>2023-11-28</td>\n",
       "      <td>22:30:00</td>\n",
       "      <td>2023-11-28</td>\n",
       "      <td>22:30:00</td>\n",
       "    </tr>\n",
       "    <tr>\n",
       "      <th>109</th>\n",
       "      <td>U2 5112</td>\n",
       "      <td>Gran Canaria Island</td>\n",
       "      <td>Expected</td>\n",
       "      <td>2023-11-28 22:30:00+01:00</td>\n",
       "      <td>2023-11-28 22:30:00+01:00</td>\n",
       "      <td>2023-11-28</td>\n",
       "      <td>22:30:00</td>\n",
       "      <td>2023-11-28</td>\n",
       "      <td>22:30:00</td>\n",
       "    </tr>\n",
       "    <tr>\n",
       "      <th>110</th>\n",
       "      <td>U2 8631</td>\n",
       "      <td>London</td>\n",
       "      <td>Expected</td>\n",
       "      <td>2023-11-28 22:35:00+01:00</td>\n",
       "      <td>2023-11-28 22:35:00+01:00</td>\n",
       "      <td>2023-11-28</td>\n",
       "      <td>22:35:00</td>\n",
       "      <td>2023-11-28</td>\n",
       "      <td>22:35:00</td>\n",
       "    </tr>\n",
       "    <tr>\n",
       "      <th>111</th>\n",
       "      <td>I2 3674</td>\n",
       "      <td>Madrid</td>\n",
       "      <td>Expected</td>\n",
       "      <td>2023-11-28 23:05:00+01:00</td>\n",
       "      <td>2023-11-28 23:05:00+01:00</td>\n",
       "      <td>2023-11-28</td>\n",
       "      <td>23:05:00</td>\n",
       "      <td>2023-11-28</td>\n",
       "      <td>23:05:00</td>\n",
       "    </tr>\n",
       "    <tr>\n",
       "      <th>112</th>\n",
       "      <td>IB 3674</td>\n",
       "      <td>Madrid</td>\n",
       "      <td>Expected</td>\n",
       "      <td>2023-11-28 23:05:00+01:00</td>\n",
       "      <td>NaT</td>\n",
       "      <td>2023-11-28</td>\n",
       "      <td>23:05:00</td>\n",
       "      <td>NaT</td>\n",
       "      <td>NaT</td>\n",
       "    </tr>\n",
       "  </tbody>\n",
       "</table>\n",
       "<p>113 rows × 9 columns</p>\n",
       "</div>"
      ],
      "text/plain": [
       "    Flight Number    Departure Airport    Status Scheduled arrival date_time  \\\n",
       "0         EC 5148                Paris   Delayed   2023-11-28 13:25:00+01:00   \n",
       "1         EC 5366            Prishtina   Delayed   2023-11-28 13:55:00+01:00   \n",
       "2          LH 184    Frankfurt-am-Main   Delayed   2023-11-28 13:55:00+01:00   \n",
       "3          BA 982               London   Arrived   2023-11-28 13:25:00+01:00   \n",
       "4         U2 5148                Paris   Delayed   2023-11-28 13:25:00+01:00   \n",
       "..            ...                  ...       ...                         ...   \n",
       "108       U2 5108            Barcelona  Expected   2023-11-28 22:30:00+01:00   \n",
       "109       U2 5112  Gran Canaria Island  Expected   2023-11-28 22:30:00+01:00   \n",
       "110       U2 8631               London  Expected   2023-11-28 22:35:00+01:00   \n",
       "111       I2 3674               Madrid  Expected   2023-11-28 23:05:00+01:00   \n",
       "112       IB 3674               Madrid  Expected   2023-11-28 23:05:00+01:00   \n",
       "\n",
       "    Revised arrival date_time Scheduled arrival date Scheduled arrival time  \\\n",
       "0   2023-11-28 14:37:00+01:00             2023-11-28               13:25:00   \n",
       "1   2023-11-28 14:22:00+01:00             2023-11-28               13:55:00   \n",
       "2   2023-11-28 14:28:00+01:00             2023-11-28               13:55:00   \n",
       "3   2023-11-28 13:51:00+01:00             2023-11-28               13:25:00   \n",
       "4   2023-11-28 14:37:00+01:00             2023-11-28               13:25:00   \n",
       "..                        ...                    ...                    ...   \n",
       "108 2023-11-28 22:30:00+01:00             2023-11-28               22:30:00   \n",
       "109 2023-11-28 22:30:00+01:00             2023-11-28               22:30:00   \n",
       "110 2023-11-28 22:35:00+01:00             2023-11-28               22:35:00   \n",
       "111 2023-11-28 23:05:00+01:00             2023-11-28               23:05:00   \n",
       "112                       NaT             2023-11-28               23:05:00   \n",
       "\n",
       "    Revised arrival date Revised arrival time  \n",
       "0             2023-11-28             14:37:00  \n",
       "1             2023-11-28             14:22:00  \n",
       "2             2023-11-28             14:28:00  \n",
       "3             2023-11-28             13:51:00  \n",
       "4             2023-11-28             14:37:00  \n",
       "..                   ...                  ...  \n",
       "108           2023-11-28             22:30:00  \n",
       "109           2023-11-28             22:30:00  \n",
       "110           2023-11-28             22:35:00  \n",
       "111           2023-11-28             23:05:00  \n",
       "112                  NaT                  NaT  \n",
       "\n",
       "[113 rows x 9 columns]"
      ]
     },
     "execution_count": 66,
     "metadata": {},
     "output_type": "execute_result"
    }
   ],
   "source": [
    "flight_df"
   ]
  },
  {
   "cell_type": "code",
   "execution_count": 67,
   "metadata": {
    "tags": []
   },
   "outputs": [],
   "source": [
    "flight_df = flight_df.drop(columns=['Scheduled arrival date_time', 'Revised arrival date_time'])"
   ]
  },
  {
   "cell_type": "code",
   "execution_count": 68,
   "metadata": {
    "tags": []
   },
   "outputs": [
    {
     "data": {
      "text/html": [
       "<div>\n",
       "<style scoped>\n",
       "    .dataframe tbody tr th:only-of-type {\n",
       "        vertical-align: middle;\n",
       "    }\n",
       "\n",
       "    .dataframe tbody tr th {\n",
       "        vertical-align: top;\n",
       "    }\n",
       "\n",
       "    .dataframe thead th {\n",
       "        text-align: right;\n",
       "    }\n",
       "</style>\n",
       "<table border=\"1\" class=\"dataframe\">\n",
       "  <thead>\n",
       "    <tr style=\"text-align: right;\">\n",
       "      <th></th>\n",
       "      <th>Flight Number</th>\n",
       "      <th>Departure Airport</th>\n",
       "      <th>Status</th>\n",
       "      <th>Scheduled arrival date</th>\n",
       "      <th>Scheduled arrival time</th>\n",
       "      <th>Revised arrival date</th>\n",
       "      <th>Revised arrival time</th>\n",
       "    </tr>\n",
       "  </thead>\n",
       "  <tbody>\n",
       "    <tr>\n",
       "      <th>0</th>\n",
       "      <td>EC 5148</td>\n",
       "      <td>Paris</td>\n",
       "      <td>Delayed</td>\n",
       "      <td>2023-11-28</td>\n",
       "      <td>13:25:00</td>\n",
       "      <td>2023-11-28</td>\n",
       "      <td>14:37:00</td>\n",
       "    </tr>\n",
       "    <tr>\n",
       "      <th>1</th>\n",
       "      <td>EC 5366</td>\n",
       "      <td>Prishtina</td>\n",
       "      <td>Delayed</td>\n",
       "      <td>2023-11-28</td>\n",
       "      <td>13:55:00</td>\n",
       "      <td>2023-11-28</td>\n",
       "      <td>14:22:00</td>\n",
       "    </tr>\n",
       "    <tr>\n",
       "      <th>2</th>\n",
       "      <td>LH 184</td>\n",
       "      <td>Frankfurt-am-Main</td>\n",
       "      <td>Delayed</td>\n",
       "      <td>2023-11-28</td>\n",
       "      <td>13:55:00</td>\n",
       "      <td>2023-11-28</td>\n",
       "      <td>14:28:00</td>\n",
       "    </tr>\n",
       "    <tr>\n",
       "      <th>3</th>\n",
       "      <td>BA 982</td>\n",
       "      <td>London</td>\n",
       "      <td>Arrived</td>\n",
       "      <td>2023-11-28</td>\n",
       "      <td>13:25:00</td>\n",
       "      <td>2023-11-28</td>\n",
       "      <td>13:51:00</td>\n",
       "    </tr>\n",
       "    <tr>\n",
       "      <th>4</th>\n",
       "      <td>U2 5148</td>\n",
       "      <td>Paris</td>\n",
       "      <td>Delayed</td>\n",
       "      <td>2023-11-28</td>\n",
       "      <td>13:25:00</td>\n",
       "      <td>2023-11-28</td>\n",
       "      <td>14:37:00</td>\n",
       "    </tr>\n",
       "    <tr>\n",
       "      <th>...</th>\n",
       "      <td>...</td>\n",
       "      <td>...</td>\n",
       "      <td>...</td>\n",
       "      <td>...</td>\n",
       "      <td>...</td>\n",
       "      <td>...</td>\n",
       "      <td>...</td>\n",
       "    </tr>\n",
       "    <tr>\n",
       "      <th>108</th>\n",
       "      <td>U2 5108</td>\n",
       "      <td>Barcelona</td>\n",
       "      <td>Expected</td>\n",
       "      <td>2023-11-28</td>\n",
       "      <td>22:30:00</td>\n",
       "      <td>2023-11-28</td>\n",
       "      <td>22:30:00</td>\n",
       "    </tr>\n",
       "    <tr>\n",
       "      <th>109</th>\n",
       "      <td>U2 5112</td>\n",
       "      <td>Gran Canaria Island</td>\n",
       "      <td>Expected</td>\n",
       "      <td>2023-11-28</td>\n",
       "      <td>22:30:00</td>\n",
       "      <td>2023-11-28</td>\n",
       "      <td>22:30:00</td>\n",
       "    </tr>\n",
       "    <tr>\n",
       "      <th>110</th>\n",
       "      <td>U2 8631</td>\n",
       "      <td>London</td>\n",
       "      <td>Expected</td>\n",
       "      <td>2023-11-28</td>\n",
       "      <td>22:35:00</td>\n",
       "      <td>2023-11-28</td>\n",
       "      <td>22:35:00</td>\n",
       "    </tr>\n",
       "    <tr>\n",
       "      <th>111</th>\n",
       "      <td>I2 3674</td>\n",
       "      <td>Madrid</td>\n",
       "      <td>Expected</td>\n",
       "      <td>2023-11-28</td>\n",
       "      <td>23:05:00</td>\n",
       "      <td>2023-11-28</td>\n",
       "      <td>23:05:00</td>\n",
       "    </tr>\n",
       "    <tr>\n",
       "      <th>112</th>\n",
       "      <td>IB 3674</td>\n",
       "      <td>Madrid</td>\n",
       "      <td>Expected</td>\n",
       "      <td>2023-11-28</td>\n",
       "      <td>23:05:00</td>\n",
       "      <td>NaT</td>\n",
       "      <td>NaT</td>\n",
       "    </tr>\n",
       "  </tbody>\n",
       "</table>\n",
       "<p>113 rows × 7 columns</p>\n",
       "</div>"
      ],
      "text/plain": [
       "    Flight Number    Departure Airport    Status Scheduled arrival date  \\\n",
       "0         EC 5148                Paris   Delayed             2023-11-28   \n",
       "1         EC 5366            Prishtina   Delayed             2023-11-28   \n",
       "2          LH 184    Frankfurt-am-Main   Delayed             2023-11-28   \n",
       "3          BA 982               London   Arrived             2023-11-28   \n",
       "4         U2 5148                Paris   Delayed             2023-11-28   \n",
       "..            ...                  ...       ...                    ...   \n",
       "108       U2 5108            Barcelona  Expected             2023-11-28   \n",
       "109       U2 5112  Gran Canaria Island  Expected             2023-11-28   \n",
       "110       U2 8631               London  Expected             2023-11-28   \n",
       "111       I2 3674               Madrid  Expected             2023-11-28   \n",
       "112       IB 3674               Madrid  Expected             2023-11-28   \n",
       "\n",
       "    Scheduled arrival time Revised arrival date Revised arrival time  \n",
       "0                 13:25:00           2023-11-28             14:37:00  \n",
       "1                 13:55:00           2023-11-28             14:22:00  \n",
       "2                 13:55:00           2023-11-28             14:28:00  \n",
       "3                 13:25:00           2023-11-28             13:51:00  \n",
       "4                 13:25:00           2023-11-28             14:37:00  \n",
       "..                     ...                  ...                  ...  \n",
       "108               22:30:00           2023-11-28             22:30:00  \n",
       "109               22:30:00           2023-11-28             22:30:00  \n",
       "110               22:35:00           2023-11-28             22:35:00  \n",
       "111               23:05:00           2023-11-28             23:05:00  \n",
       "112               23:05:00                  NaT                  NaT  \n",
       "\n",
       "[113 rows x 7 columns]"
      ]
     },
     "execution_count": 68,
     "metadata": {},
     "output_type": "execute_result"
    }
   ],
   "source": [
    "flight_df"
   ]
  },
  {
   "cell_type": "code",
   "execution_count": 73,
   "metadata": {
    "tags": []
   },
   "outputs": [],
   "source": [
    "flight_df['Scheduled arrival date'] = pd.to_datetime(flight_df['Scheduled arrival date'])\n",
    "flight_df['Revised arrival date'] = pd.to_datetime(flight_df['Revised arrival date'])"
   ]
  },
  {
   "cell_type": "code",
   "execution_count": 74,
   "metadata": {
    "tags": []
   },
   "outputs": [
    {
     "name": "stdout",
     "output_type": "stream",
     "text": [
      "<class 'pandas.core.frame.DataFrame'>\n",
      "RangeIndex: 113 entries, 0 to 112\n",
      "Data columns (total 7 columns):\n",
      " #   Column                  Non-Null Count  Dtype         \n",
      "---  ------                  --------------  -----         \n",
      " 0   Flight Number           113 non-null    object        \n",
      " 1   Departure Airport       113 non-null    object        \n",
      " 2   Status                  113 non-null    object        \n",
      " 3   Scheduled arrival date  113 non-null    datetime64[ns]\n",
      " 4   Scheduled arrival time  113 non-null    object        \n",
      " 5   Revised arrival date    111 non-null    datetime64[ns]\n",
      " 6   Revised arrival time    111 non-null    object        \n",
      "dtypes: datetime64[ns](2), object(5)\n",
      "memory usage: 6.3+ KB\n"
     ]
    }
   ],
   "source": [
    "flight_df.info()"
   ]
  },
  {
   "cell_type": "code",
   "execution_count": null,
   "metadata": {},
   "outputs": [],
   "source": []
  }
 ],
 "metadata": {
  "colab": {
   "provenance": [
    {
     "file_id": "1D94pPFQT2_EPb8eUQnOeGPGuFPwkX6Qn",
     "timestamp": 1701115447027
    },
    {
     "file_id": "/v2/external/notebooks/empty.ipynb",
     "timestamp": 1653041208359
    }
   ]
  },
  "kernelspec": {
   "display_name": "Python 3 (ipykernel)",
   "language": "python",
   "name": "python3"
  },
  "language_info": {
   "codemirror_mode": {
    "name": "ipython",
    "version": 3
   },
   "file_extension": ".py",
   "mimetype": "text/x-python",
   "name": "python",
   "nbconvert_exporter": "python",
   "pygments_lexer": "ipython3",
   "version": "3.11.5"
  }
 },
 "nbformat": 4,
 "nbformat_minor": 4
}
