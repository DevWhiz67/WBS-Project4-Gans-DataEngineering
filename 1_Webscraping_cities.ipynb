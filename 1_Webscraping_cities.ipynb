{
 "cells": [
  {
   "cell_type": "markdown",
   "id": "d35efc53-80a3-4e1e-b7b1-5be60124136e",
   "metadata": {},
   "source": [
    "# Web-scraping Wikipedia"
   ]
  },
  {
   "cell_type": "code",
   "execution_count": 1,
   "id": "29ee0fc3-b56c-430c-b866-e390f1968edc",
   "metadata": {
    "tags": []
   },
   "outputs": [],
   "source": [
    "from bs4 import BeautifulSoup\n",
    "import requests\n",
    "import pandas as pd\n",
    "import re\n",
    "from datetime import datetime"
   ]
  },
  {
   "cell_type": "code",
   "execution_count": 2,
   "id": "0128adee-ddae-487e-8aed-282c7bfac9f9",
   "metadata": {
    "tags": []
   },
   "outputs": [],
   "source": [
    "url = \"https://en.wikipedia.org/wiki/Berlin\""
   ]
  },
  {
   "cell_type": "code",
   "execution_count": 3,
   "id": "2e5662c3-7487-4d59-9646-40e5192e84d2",
   "metadata": {
    "tags": []
   },
   "outputs": [],
   "source": [
    "url1 = \"https://en.wikipedia.org/wiki/Frankfurt\""
   ]
  },
  {
   "cell_type": "code",
   "execution_count": 6,
   "id": "75c04ea8-116b-40e5-971d-c6f35b0b0096",
   "metadata": {
    "tags": []
   },
   "outputs": [],
   "source": [
    "url2 = \"https://en.wikipedia.org/wiki/Munich\""
   ]
  },
  {
   "cell_type": "code",
   "execution_count": 9,
   "id": "48afb7f0-948b-4f73-a7a4-cf44b8c2b33b",
   "metadata": {
    "tags": []
   },
   "outputs": [],
   "source": [
    "response = requests.get(url)\n",
    "#response.status_code # 200 status code means OK!"
   ]
  },
  {
   "cell_type": "code",
   "execution_count": 10,
   "id": "49341fb1-e89a-4f69-afc5-589d9684e0d4",
   "metadata": {
    "tags": []
   },
   "outputs": [
    {
     "data": {
      "text/plain": [
       "200"
      ]
     },
     "execution_count": 10,
     "metadata": {},
     "output_type": "execute_result"
    }
   ],
   "source": [
    "response1 = requests.get(url1)\n",
    "response.status_code # 200 status code means OK!"
   ]
  },
  {
   "cell_type": "code",
   "execution_count": 11,
   "id": "e2e6e66d-5e92-4599-a5c5-6649aafee519",
   "metadata": {
    "tags": []
   },
   "outputs": [
    {
     "data": {
      "text/plain": [
       "200"
      ]
     },
     "execution_count": 11,
     "metadata": {},
     "output_type": "execute_result"
    }
   ],
   "source": [
    "response2 = requests.get(url2)\n",
    "response.status_code # 200 status code means OK!"
   ]
  },
  {
   "cell_type": "code",
   "execution_count": 12,
   "id": "8a525396-66a5-4148-b28e-2398699567ca",
   "metadata": {
    "tags": []
   },
   "outputs": [],
   "source": [
    "soup = BeautifulSoup(response.content, \"html.parser\")"
   ]
  },
  {
   "cell_type": "code",
   "execution_count": 13,
   "id": "d3c3b9de-136b-4921-91e8-87c6d89e4e97",
   "metadata": {
    "tags": []
   },
   "outputs": [],
   "source": [
    "soup1 = BeautifulSoup(response1.content, \"html.parser\")"
   ]
  },
  {
   "cell_type": "code",
   "execution_count": 14,
   "id": "8c19939c-b486-4960-ad1b-33c870fba13e",
   "metadata": {
    "tags": []
   },
   "outputs": [],
   "source": [
    "soup2 = BeautifulSoup(response2.content, \"html.parser\")"
   ]
  },
  {
   "cell_type": "code",
   "execution_count": 15,
   "id": "9b821fa4-004a-472d-bffb-004027a6f59b",
   "metadata": {
    "tags": []
   },
   "outputs": [],
   "source": [
    "#soup.prettify"
   ]
  },
  {
   "cell_type": "code",
   "execution_count": 16,
   "id": "8edec2e4-c623-4107-8423-8f81710b8c66",
   "metadata": {
    "tags": []
   },
   "outputs": [],
   "source": [
    "city_names = []\n",
    "country_names = []"
   ]
  },
  {
   "cell_type": "markdown",
   "id": "743f30d3-577b-408a-8c2c-233c2bc95e70",
   "metadata": {},
   "source": [
    "## Search for city name"
   ]
  },
  {
   "cell_type": "code",
   "execution_count": 17,
   "id": "8102ec83-0ccb-497a-881c-87d3a2547b6f",
   "metadata": {
    "tags": []
   },
   "outputs": [],
   "source": [
    "#<span class=\"mw-page-title-main\">Berlin</span>"
   ]
  },
  {
   "cell_type": "code",
   "execution_count": 18,
   "id": "c261abc5-2ee6-4efd-9f4c-2154bdb36884",
   "metadata": {
    "tags": []
   },
   "outputs": [
    {
     "data": {
      "text/plain": [
       "['Berlin']"
      ]
     },
     "execution_count": 18,
     "metadata": {},
     "output_type": "execute_result"
    }
   ],
   "source": [
    "city = soup.select('span.mw-page-title-main')[0].get_text()\n",
    "city_names.append(city)\n",
    "city_names"
   ]
  },
  {
   "cell_type": "code",
   "execution_count": 19,
   "id": "64150659-771b-4be6-a8f7-647614d7a831",
   "metadata": {
    "tags": []
   },
   "outputs": [
    {
     "data": {
      "text/plain": [
       "['Berlin', 'Frankfurt']"
      ]
     },
     "execution_count": 19,
     "metadata": {},
     "output_type": "execute_result"
    }
   ],
   "source": [
    "city1 = soup1.select('span.mw-page-title-main')[0].get_text()\n",
    "city_names.append(city1)\n",
    "city_names"
   ]
  },
  {
   "cell_type": "code",
   "execution_count": 20,
   "id": "567fd043-68e8-4051-a911-8869fd605156",
   "metadata": {
    "tags": []
   },
   "outputs": [
    {
     "data": {
      "text/plain": [
       "'Munich'"
      ]
     },
     "execution_count": 20,
     "metadata": {},
     "output_type": "execute_result"
    }
   ],
   "source": [
    "soup2.select('span.mw-page-title-main')[0].get_text()"
   ]
  },
  {
   "cell_type": "markdown",
   "id": "16f71404-421c-415a-9ba0-55c6ba6b0944",
   "metadata": {},
   "source": [
    "## Search for country"
   ]
  },
  {
   "cell_type": "code",
   "execution_count": 21,
   "id": "bfaa8c41-fc55-4ef5-bd9a-00d6ee837b75",
   "metadata": {},
   "outputs": [],
   "source": [
    "#<td class=\"infobox-data\"><a href=\"/wiki/Germany\" title=\"Germany\">Germany</a></td>"
   ]
  },
  {
   "cell_type": "code",
   "execution_count": 22,
   "id": "f67b1bd6-d8d1-4a2b-b608-86998f598e30",
   "metadata": {
    "tags": []
   },
   "outputs": [
    {
     "data": {
      "text/plain": [
       "['Germany']"
      ]
     },
     "execution_count": 22,
     "metadata": {},
     "output_type": "execute_result"
    }
   ],
   "source": [
    "country = soup.select('td.infobox-data')[0].get_text()\n",
    "country_names.append(country)\n",
    "country_names"
   ]
  },
  {
   "cell_type": "code",
   "execution_count": 23,
   "id": "8932158a-237f-435d-a041-f354f881d1f6",
   "metadata": {
    "tags": []
   },
   "outputs": [
    {
     "data": {
      "text/plain": [
       "['Germany', 'Germany']"
      ]
     },
     "execution_count": 23,
     "metadata": {},
     "output_type": "execute_result"
    }
   ],
   "source": [
    "country1 = soup1.select('td.infobox-data')[0].get_text()\n",
    "country_names.append(country1)\n",
    "country_names"
   ]
  },
  {
   "cell_type": "code",
   "execution_count": 24,
   "id": "6055e7bd-eec8-4642-9f0a-a860af1d2e71",
   "metadata": {
    "tags": []
   },
   "outputs": [
    {
     "data": {
      "text/plain": [
       "['Germany', 'Germany', 'Germany']"
      ]
     },
     "execution_count": 24,
     "metadata": {},
     "output_type": "execute_result"
    }
   ],
   "source": [
    "country2 = soup2.select('td.infobox-data')[0].get_text()\n",
    "country_names.append(country2)\n",
    "country_names"
   ]
  },
  {
   "cell_type": "markdown",
   "id": "0f0f1e2a-3f35-4655-be7a-1912906ea074",
   "metadata": {},
   "source": [
    "## Search for latitude"
   ]
  },
  {
   "cell_type": "code",
   "execution_count": 25,
   "id": "46eeb266-3b8b-49d4-867c-c167156e485b",
   "metadata": {},
   "outputs": [],
   "source": [
    "#<span class=\"latitude\">52°31′12″N</span>"
   ]
  },
  {
   "cell_type": "code",
   "execution_count": 26,
   "id": "c4c7c299-4cf8-4e85-9886-64ad6a046f92",
   "metadata": {
    "tags": []
   },
   "outputs": [
    {
     "data": {
      "text/plain": [
       "'52°31′12″N'"
      ]
     },
     "execution_count": 26,
     "metadata": {},
     "output_type": "execute_result"
    }
   ],
   "source": [
    "soup.select('span.latitude')[0].get_text()"
   ]
  },
  {
   "cell_type": "code",
   "execution_count": 27,
   "id": "a4c71c92-31f3-4cf6-b022-fadeddb8cfd0",
   "metadata": {
    "tags": []
   },
   "outputs": [
    {
     "data": {
      "text/plain": [
       "'50°06′38″N'"
      ]
     },
     "execution_count": 27,
     "metadata": {},
     "output_type": "execute_result"
    }
   ],
   "source": [
    "soup1.select('span.latitude')[0].get_text()"
   ]
  },
  {
   "cell_type": "code",
   "execution_count": 28,
   "id": "156e9573-950d-4e80-8ece-e9ecd796c966",
   "metadata": {
    "tags": []
   },
   "outputs": [
    {
     "data": {
      "text/plain": [
       "'48°08′15″N'"
      ]
     },
     "execution_count": 28,
     "metadata": {},
     "output_type": "execute_result"
    }
   ],
   "source": [
    "soup2.select('span.latitude')[0].get_text()"
   ]
  },
  {
   "cell_type": "markdown",
   "id": "d0282638-a073-4f49-a34f-e4381bd9b5bb",
   "metadata": {},
   "source": [
    "## Search for longitude"
   ]
  },
  {
   "cell_type": "code",
   "execution_count": 29,
   "id": "1a7588b5-a99b-4c41-867e-69804ca04663",
   "metadata": {},
   "outputs": [],
   "source": [
    "#<span class=\"longitude\">13°24′18″E</span>"
   ]
  },
  {
   "cell_type": "code",
   "execution_count": 30,
   "id": "4e938d71-6627-492e-9837-c62ba553959b",
   "metadata": {
    "tags": []
   },
   "outputs": [
    {
     "data": {
      "text/plain": [
       "'13°24′18″E'"
      ]
     },
     "execution_count": 30,
     "metadata": {},
     "output_type": "execute_result"
    }
   ],
   "source": [
    "soup.select('span.longitude')[0].get_text()"
   ]
  },
  {
   "cell_type": "code",
   "execution_count": 31,
   "id": "b7cfb895-26aa-49a3-96bf-6e0b81613fc7",
   "metadata": {
    "tags": []
   },
   "outputs": [
    {
     "data": {
      "text/plain": [
       "'08°40′56″E'"
      ]
     },
     "execution_count": 31,
     "metadata": {},
     "output_type": "execute_result"
    }
   ],
   "source": [
    "soup1.select('span.longitude')[0].get_text()"
   ]
  },
  {
   "cell_type": "code",
   "execution_count": 32,
   "id": "83669417-5c0d-4e2d-9bca-b121054f0670",
   "metadata": {
    "tags": []
   },
   "outputs": [
    {
     "data": {
      "text/plain": [
       "'11°34′30″E'"
      ]
     },
     "execution_count": 32,
     "metadata": {},
     "output_type": "execute_result"
    }
   ],
   "source": [
    "soup2.select('span.longitude')[0].get_text()"
   ]
  },
  {
   "cell_type": "markdown",
   "id": "31f8766f-8e71-4de0-b359-1adb363dcfc5",
   "metadata": {},
   "source": [
    "## Search for population"
   ]
  },
  {
   "cell_type": "code",
   "execution_count": 33,
   "id": "c6ee0747-5533-4ab1-a6c3-c061e7c953e7",
   "metadata": {},
   "outputs": [],
   "source": [
    "#<td class=\"infobox-data\">3,850,809</td>"
   ]
  },
  {
   "cell_type": "code",
   "execution_count": 34,
   "id": "b5ed32c8-c0b8-4dcc-8a35-ace867f63fb8",
   "metadata": {
    "tags": []
   },
   "outputs": [
    {
     "data": {
      "text/plain": [
       "'3,850,809'"
      ]
     },
     "execution_count": 34,
     "metadata": {},
     "output_type": "execute_result"
    }
   ],
   "source": [
    "soup.select('td.infobox-data')[10].get_text()"
   ]
  },
  {
   "cell_type": "code",
   "execution_count": 35,
   "id": "d96f8ce2-86f5-44e3-b82a-9ab2428a4ec4",
   "metadata": {},
   "outputs": [],
   "source": [
    "#Alternative Methode:"
   ]
  },
  {
   "cell_type": "code",
   "execution_count": 36,
   "id": "89e329a3-320e-49ff-aa8e-5109b73e806f",
   "metadata": {},
   "outputs": [
    {
     "data": {
      "text/plain": [
       "'3,850,809'"
      ]
     },
     "execution_count": 36,
     "metadata": {},
     "output_type": "execute_result"
    }
   ],
   "source": [
    "population = soup.select('th.infobox-header:-soup-contains(\"Population\")')[0].parent.find_next_sibling().find(string=re.compile(r'\\d+'))\n",
    "population"
   ]
  },
  {
   "cell_type": "code",
   "execution_count": 76,
   "id": "2bed8767-e5e5-42a8-81b7-425fbe3915dd",
   "metadata": {
    "tags": []
   },
   "outputs": [
    {
     "data": {
      "text/plain": [
       "[<div class=\"ib-settlement-fn\"></div>,\n",
       " <div class=\"ib-settlement-fn\"></div>,\n",
       " <div class=\"ib-settlement-fn\"></div>,\n",
       " <div class=\"ib-settlement-fn\"><span class=\"nowrap\"> </span>(2022-12-31)<sup class=\"reference\" id=\"cite_ref-4\"><a href=\"#cite_note-4\">[4]</a></sup></div>,\n",
       " <div class=\"ib-settlement-fn\"></div>,\n",
       " <div class=\"ib-settlement-fn\"></div>]"
      ]
     },
     "execution_count": 76,
     "metadata": {},
     "output_type": "execute_result"
    }
   ],
   "source": [
    "soup1.select('div.ib-settlement-fn')"
   ]
  },
  {
   "cell_type": "markdown",
   "id": "1d57bbd8-8696-4b8e-ae15-9c6f881a3d35",
   "metadata": {},
   "source": [
    "## Search for Year of Poulation"
   ]
  },
  {
   "cell_type": "code",
   "execution_count": 77,
   "id": "b9070557-d073-405a-8483-c9c605600274",
   "metadata": {
    "tags": []
   },
   "outputs": [
    {
     "data": {
      "text/plain": [
       "[<div class=\"ib-settlement-fn\"></div>,\n",
       " <div class=\"ib-settlement-fn\"></div>,\n",
       " <div class=\"ib-settlement-fn\"></div>,\n",
       " <div class=\"ib-settlement-fn\"><span class=\"nowrap\"> </span>(2022-12-31)<sup class=\"reference\" id=\"cite_ref-4\"><a href=\"#cite_note-4\">[4]</a></sup></div>,\n",
       " <div class=\"ib-settlement-fn\"></div>,\n",
       " <div class=\"ib-settlement-fn\"></div>]"
      ]
     },
     "execution_count": 77,
     "metadata": {},
     "output_type": "execute_result"
    }
   ],
   "source": [
    "#Get year of population\n",
    "soup.select('div.ib-settlement-fn')"
   ]
  },
  {
   "cell_type": "code",
   "execution_count": 78,
   "id": "5daba150-7e55-4ea4-a3ea-4f78a259af2c",
   "metadata": {
    "tags": []
   },
   "outputs": [
    {
     "data": {
      "text/plain": [
       "'2022-12-31'"
      ]
     },
     "execution_count": 78,
     "metadata": {},
     "output_type": "execute_result"
    }
   ],
   "source": [
    "divs = soup2.find_all('div', class_='ib-settlement-fn')\n",
    "\n",
    "for div in divs:\n",
    "    span = div.find('span')\n",
    "    if span:\n",
    "        year_text = span.next_sibling.strip('()')\n",
    "year_text"
   ]
  },
  {
   "cell_type": "markdown",
   "id": "5fe284d7-7f40-4c17-bdc8-1acdb7318479",
   "metadata": {},
   "source": [
    "## Setting up loops to simplify the process"
   ]
  },
  {
   "cell_type": "code",
   "execution_count": 47,
   "id": "bbb2d798-e178-46fa-a090-9b9d52c449dd",
   "metadata": {
    "tags": []
   },
   "outputs": [],
   "source": [
    "list_of_cities = [\"Hamburg\", \"Berlin\", \"Frankfurt\"]\n",
    "\n",
    "for city in list_of_cities:\n",
    "\n",
    "    url = \"https://en.wikipedia.org/wiki/\" + city\n",
    "    headers = {'Accept-Language': 'en-US,en;q=0.8'}\n",
    "    response = requests.get(url, headers = headers)\n",
    "    if response.status_code != 200: break\n",
    "    soup = BeautifulSoup(response.content, \"html.parser\")\n",
    "\n",
    "\n",
    "\n",
    "city_names = []\n",
    "country_names = []\n",
    "latitudes = []\n",
    "longitudes = []\n",
    "populations = []"
   ]
  },
  {
   "cell_type": "code",
   "execution_count": 48,
   "id": "31d7d35b-3ce2-4687-bec5-9be720dfd793",
   "metadata": {
    "tags": []
   },
   "outputs": [],
   "source": [
    "for city in list_of_cities:\n",
    "\n",
    "    url = \"https://en.wikipedia.org/wiki/\" + city\n",
    "    headers = {'Accept-Language': 'en-US,en;q=0.8'}\n",
    "    response = requests.get(url, headers = headers)\n",
    "    if response.status_code != 200: break\n",
    "    soup = BeautifulSoup(response.content, \"html.parser\")\n",
    "    \n",
    "    city_name = soup.select('span.mw-page-title-main')[0].get_text()\n",
    "    city_names.append(city_name)\n",
    "    country_name = soup.select('td.infobox-data')[0].get_text()\n",
    "    country_names.append(country_name)\n",
    "    latitude = soup.select('span.latitude')[0].get_text()\n",
    "    latitudes.append(latitude)\n",
    "    longitude = soup.select('span.longitude')[0].get_text()\n",
    "    longitudes.append(longitude)\n",
    "    population = soup.select('th.infobox-header:-soup-contains(\"Population\")')[0].parent.find_next_sibling().find(string=re.compile(r'\\d+'))\n",
    "    populations.append(population)"
   ]
  },
  {
   "cell_type": "code",
   "execution_count": 49,
   "id": "a80fa1a2-c2d9-4d1f-a273-f975485ec661",
   "metadata": {
    "tags": []
   },
   "outputs": [],
   "source": [
    "cities_df = pd.DataFrame(\n",
    "    {\"City\": city_names,\n",
    "     \"Country\": country_names,\n",
    "     \"Latitude\": latitudes,\n",
    "     \"Longitude\": longitudes,\n",
    "     \"Population\": populations\n",
    "    }\n",
    ")"
   ]
  },
  {
   "cell_type": "code",
   "execution_count": 50,
   "id": "9dc372d1-3530-48e2-a163-720f69b5b5f7",
   "metadata": {
    "tags": []
   },
   "outputs": [
    {
     "data": {
      "text/html": [
       "<div>\n",
       "<style scoped>\n",
       "    .dataframe tbody tr th:only-of-type {\n",
       "        vertical-align: middle;\n",
       "    }\n",
       "\n",
       "    .dataframe tbody tr th {\n",
       "        vertical-align: top;\n",
       "    }\n",
       "\n",
       "    .dataframe thead th {\n",
       "        text-align: right;\n",
       "    }\n",
       "</style>\n",
       "<table border=\"1\" class=\"dataframe\">\n",
       "  <thead>\n",
       "    <tr style=\"text-align: right;\">\n",
       "      <th></th>\n",
       "      <th>City</th>\n",
       "      <th>Country</th>\n",
       "      <th>Latitude</th>\n",
       "      <th>Longitude</th>\n",
       "      <th>Population</th>\n",
       "    </tr>\n",
       "  </thead>\n",
       "  <tbody>\n",
       "    <tr>\n",
       "      <th>0</th>\n",
       "      <td>Hamburg</td>\n",
       "      <td>Germany</td>\n",
       "      <td>53°33′N</td>\n",
       "      <td>10°00′E</td>\n",
       "      <td>1,945,532</td>\n",
       "    </tr>\n",
       "    <tr>\n",
       "      <th>1</th>\n",
       "      <td>Berlin</td>\n",
       "      <td>Germany</td>\n",
       "      <td>52°31′12″N</td>\n",
       "      <td>13°24′18″E</td>\n",
       "      <td>3,850,809</td>\n",
       "    </tr>\n",
       "    <tr>\n",
       "      <th>2</th>\n",
       "      <td>Frankfurt</td>\n",
       "      <td>Germany</td>\n",
       "      <td>50°06′38″N</td>\n",
       "      <td>08°40′56″E</td>\n",
       "      <td>773,068</td>\n",
       "    </tr>\n",
       "  </tbody>\n",
       "</table>\n",
       "</div>"
      ],
      "text/plain": [
       "        City  Country    Latitude   Longitude Population\n",
       "0    Hamburg  Germany     53°33′N     10°00′E  1,945,532\n",
       "1     Berlin  Germany  52°31′12″N  13°24′18″E  3,850,809\n",
       "2  Frankfurt  Germany  50°06′38″N  08°40′56″E    773,068"
      ]
     },
     "execution_count": 50,
     "metadata": {},
     "output_type": "execute_result"
    }
   ],
   "source": [
    "cities_df"
   ]
  },
  {
   "cell_type": "code",
   "execution_count": 51,
   "id": "e498c634-3f87-4e5b-af37-d3d9ba5f1720",
   "metadata": {
    "tags": []
   },
   "outputs": [],
   "source": [
    "cities_df['Population'] = cities_df['Population'].str.replace(',', '').astype(int)"
   ]
  },
  {
   "cell_type": "code",
   "execution_count": 52,
   "id": "d1c715b5-f8c8-4ed0-b49e-127a34f8f5fa",
   "metadata": {
    "tags": []
   },
   "outputs": [
    {
     "data": {
      "text/html": [
       "<div>\n",
       "<style scoped>\n",
       "    .dataframe tbody tr th:only-of-type {\n",
       "        vertical-align: middle;\n",
       "    }\n",
       "\n",
       "    .dataframe tbody tr th {\n",
       "        vertical-align: top;\n",
       "    }\n",
       "\n",
       "    .dataframe thead th {\n",
       "        text-align: right;\n",
       "    }\n",
       "</style>\n",
       "<table border=\"1\" class=\"dataframe\">\n",
       "  <thead>\n",
       "    <tr style=\"text-align: right;\">\n",
       "      <th></th>\n",
       "      <th>City</th>\n",
       "      <th>Country</th>\n",
       "      <th>Latitude</th>\n",
       "      <th>Longitude</th>\n",
       "      <th>Population</th>\n",
       "    </tr>\n",
       "  </thead>\n",
       "  <tbody>\n",
       "    <tr>\n",
       "      <th>0</th>\n",
       "      <td>Hamburg</td>\n",
       "      <td>Germany</td>\n",
       "      <td>53°33′N</td>\n",
       "      <td>10°00′E</td>\n",
       "      <td>1945532</td>\n",
       "    </tr>\n",
       "    <tr>\n",
       "      <th>1</th>\n",
       "      <td>Berlin</td>\n",
       "      <td>Germany</td>\n",
       "      <td>52°31′12″N</td>\n",
       "      <td>13°24′18″E</td>\n",
       "      <td>3850809</td>\n",
       "    </tr>\n",
       "    <tr>\n",
       "      <th>2</th>\n",
       "      <td>Frankfurt</td>\n",
       "      <td>Germany</td>\n",
       "      <td>50°06′38″N</td>\n",
       "      <td>08°40′56″E</td>\n",
       "      <td>773068</td>\n",
       "    </tr>\n",
       "  </tbody>\n",
       "</table>\n",
       "</div>"
      ],
      "text/plain": [
       "        City  Country    Latitude   Longitude  Population\n",
       "0    Hamburg  Germany     53°33′N     10°00′E     1945532\n",
       "1     Berlin  Germany  52°31′12″N  13°24′18″E     3850809\n",
       "2  Frankfurt  Germany  50°06′38″N  08°40′56″E      773068"
      ]
     },
     "execution_count": 52,
     "metadata": {},
     "output_type": "execute_result"
    }
   ],
   "source": [
    "cities_df"
   ]
  },
  {
   "cell_type": "code",
   "execution_count": 53,
   "id": "07cc32ec-8842-4f6a-a51f-ecd097fbfaf1",
   "metadata": {
    "tags": []
   },
   "outputs": [
    {
     "name": "stdout",
     "output_type": "stream",
     "text": [
      "<class 'pandas.core.frame.DataFrame'>\n",
      "RangeIndex: 3 entries, 0 to 2\n",
      "Data columns (total 5 columns):\n",
      " #   Column      Non-Null Count  Dtype \n",
      "---  ------      --------------  ----- \n",
      " 0   City        3 non-null      object\n",
      " 1   Country     3 non-null      object\n",
      " 2   Latitude    3 non-null      object\n",
      " 3   Longitude   3 non-null      object\n",
      " 4   Population  3 non-null      int64 \n",
      "dtypes: int64(1), object(4)\n",
      "memory usage: 252.0+ bytes\n"
     ]
    }
   ],
   "source": [
    "cities_df.info()"
   ]
  },
  {
   "cell_type": "markdown",
   "id": "5dbb438e-52ff-4154-896f-fe9afbc39ceb",
   "metadata": {},
   "source": [
    "# Final Way to set up the Dataframe"
   ]
  },
  {
   "cell_type": "code",
   "execution_count": 7,
   "id": "828781a3-fba1-43f4-9bc6-6287ce7ce63f",
   "metadata": {
    "tags": []
   },
   "outputs": [],
   "source": [
    "from bs4 import BeautifulSoup\n",
    "import requests\n",
    "import pandas as pd\n",
    "import re\n",
    "from datetime import datetime"
   ]
  },
  {
   "cell_type": "code",
   "execution_count": 8,
   "id": "e742c394-3345-435d-a2bb-9caa54710a56",
   "metadata": {
    "tags": []
   },
   "outputs": [],
   "source": [
    "list_of_cities = ['Berlin', 'Frankfurt', 'Munich', 'Cologne', 'Stuttgart', 'Leipzig']"
   ]
  },
  {
   "cell_type": "code",
   "execution_count": 9,
   "id": "7ad7751f-ea20-449a-b60c-bde88d9d7f7a",
   "metadata": {
    "tags": []
   },
   "outputs": [],
   "source": [
    "def convert_latitude_longitude_to_decimal(input):\n",
    "    try: # extract all 4 parts from the latitude / longitude string\n",
    "        degrees, minutes, seconds, direction = re.split(\"[^\\d\\w]+\", input)\n",
    "    except: # exception for Hamburg (has only 3 parts)\n",
    "        degrees, minutes, direction = re.split(\"[^\\d\\w]+\", input)\n",
    "        seconds = 0\n",
    "\n",
    "    # transform parts into decimal\n",
    "    decimal_degrees = int(degrees) + int(minutes)/60 + int(seconds)/(60*60)\n",
    "\n",
    "    # change decimal to \"-\" if direction is South or West\n",
    "    if (direction == \"S\" or direction == \"W\"):\n",
    "        decimal_degrees *= -1\n",
    "\n",
    "    return decimal_degrees"
   ]
  },
  {
   "cell_type": "code",
   "execution_count": 10,
   "id": "882f3d89-b7dd-4b8f-952b-4a7139d6200c",
   "metadata": {},
   "outputs": [],
   "source": [
    "def get_city_data(list_of_cities):\n",
    "\n",
    "    scooter_cities_df = pd.DataFrame(\n",
    "            {\"city\": [],\n",
    "             \"country\": [],\n",
    "             \"latitude\": [],\n",
    "             \"longitude\": [],\n",
    "             \"population\": [],\n",
    "             \"timestamp\": []\n",
    "            })\n",
    "\n",
    "    for city in list_of_cities:\n",
    "\n",
    "        url = \"https://en.wikipedia.org/wiki/\" + city\n",
    "        #download html with a get request\n",
    "        headers = {'Accept-Language': 'en-US,en;q=0.8'}\n",
    "        response = requests.get(url, headers = headers)\n",
    "        if response.status_code != 200: break  # 200 status code means OK!\n",
    "\n",
    "        # parse html (create the 'soup')\n",
    "        wiki_soup = BeautifulSoup(response.content, \"html.parser\")\n",
    "\n",
    "        #extract name, country, latitude, longitude, population\n",
    "        city_name = wiki_soup.select(\"span.mw-page-title-main\")[0].getText()\n",
    "        country_name = wiki_soup.select(\"table.infobox td.infobox-data\")[0].getText()\n",
    "        latitude = wiki_soup.select(\"span.latitude\")[0].getText()\n",
    "        longitude = wiki_soup.select(\"span.longitude\")[0].getText()\n",
    "        \n",
    "        divs = wiki_soup.find_all('div', class_='ib-settlement-fn')\n",
    "        for div in divs:\n",
    "            span = div.find('span')\n",
    "            if span:\n",
    "                year_text = span.next_sibling.strip('()')\n",
    "              \n",
    "        timestamp = year_text\n",
    "\n",
    "        if wiki_soup.select_one('th.infobox-header:-soup-contains(\"Population\")'):\n",
    "            population = wiki_soup.select_one('th.infobox-header:-soup-contains(\"Population\")').parent.find_next_sibling().find(string=re.compile(r'\\d+'))\n",
    "\n",
    "\n",
    "        # convert latitude, longitude and population to decimal (optional)\n",
    "        latitude = convert_latitude_longitude_to_decimal(latitude)\n",
    "        longitude = convert_latitude_longitude_to_decimal(longitude)\n",
    "        population = int(population.replace(\",\", \"\"))\n",
    "\n",
    "\n",
    "        #create a Dataframe from the new information\n",
    "        city_df = pd.DataFrame(\n",
    "            {\"city\": [city_name],\n",
    "             \"country\": [country_name],\n",
    "             \"latitude\": [latitude],\n",
    "             \"longitude\": [longitude],\n",
    "             \"population\": [population],\n",
    "             \"timestamp\": [timestamp]\n",
    "            }\n",
    "        )\n",
    "        # append info to scooter_cities_df\n",
    "        scooter_cities_df = pd.concat([scooter_cities_df, city_df], ignore_index = True)\n",
    "\n",
    "    return scooter_cities_df"
   ]
  },
  {
   "cell_type": "code",
   "execution_count": 11,
   "id": "a9f90851-f608-486a-9f44-0f9b0e532fa2",
   "metadata": {
    "tags": []
   },
   "outputs": [
    {
     "data": {
      "text/html": [
       "<div>\n",
       "<style scoped>\n",
       "    .dataframe tbody tr th:only-of-type {\n",
       "        vertical-align: middle;\n",
       "    }\n",
       "\n",
       "    .dataframe tbody tr th {\n",
       "        vertical-align: top;\n",
       "    }\n",
       "\n",
       "    .dataframe thead th {\n",
       "        text-align: right;\n",
       "    }\n",
       "</style>\n",
       "<table border=\"1\" class=\"dataframe\">\n",
       "  <thead>\n",
       "    <tr style=\"text-align: right;\">\n",
       "      <th></th>\n",
       "      <th>city</th>\n",
       "      <th>country</th>\n",
       "      <th>latitude</th>\n",
       "      <th>longitude</th>\n",
       "      <th>population</th>\n",
       "      <th>timestamp</th>\n",
       "    </tr>\n",
       "  </thead>\n",
       "  <tbody>\n",
       "    <tr>\n",
       "      <th>0</th>\n",
       "      <td>Berlin</td>\n",
       "      <td>Germany</td>\n",
       "      <td>52.520000</td>\n",
       "      <td>13.405000</td>\n",
       "      <td>3850809.0</td>\n",
       "      <td>2021</td>\n",
       "    </tr>\n",
       "    <tr>\n",
       "      <th>1</th>\n",
       "      <td>Frankfurt</td>\n",
       "      <td>Germany</td>\n",
       "      <td>50.110556</td>\n",
       "      <td>8.682222</td>\n",
       "      <td>773068.0</td>\n",
       "      <td>2022-12-31</td>\n",
       "    </tr>\n",
       "    <tr>\n",
       "      <th>2</th>\n",
       "      <td>Munich</td>\n",
       "      <td>Germany</td>\n",
       "      <td>48.137500</td>\n",
       "      <td>11.575000</td>\n",
       "      <td>1512491.0</td>\n",
       "      <td>2022-12-31</td>\n",
       "    </tr>\n",
       "    <tr>\n",
       "      <th>3</th>\n",
       "      <td>Cologne</td>\n",
       "      <td>Germany</td>\n",
       "      <td>50.936389</td>\n",
       "      <td>6.952778</td>\n",
       "      <td>1073096.0</td>\n",
       "      <td>2021-12-31</td>\n",
       "    </tr>\n",
       "    <tr>\n",
       "      <th>4</th>\n",
       "      <td>Stuttgart</td>\n",
       "      <td>Germany</td>\n",
       "      <td>48.777500</td>\n",
       "      <td>9.180000</td>\n",
       "      <td>626275.0</td>\n",
       "      <td>2021-12-31</td>\n",
       "    </tr>\n",
       "    <tr>\n",
       "      <th>5</th>\n",
       "      <td>Leipzig</td>\n",
       "      <td>Germany</td>\n",
       "      <td>51.340000</td>\n",
       "      <td>12.375000</td>\n",
       "      <td>601866.0</td>\n",
       "      <td>2021-12-31</td>\n",
       "    </tr>\n",
       "  </tbody>\n",
       "</table>\n",
       "</div>"
      ],
      "text/plain": [
       "        city  country   latitude  longitude  population   timestamp\n",
       "0     Berlin  Germany  52.520000  13.405000   3850809.0        2021\n",
       "1  Frankfurt  Germany  50.110556   8.682222    773068.0  2022-12-31\n",
       "2     Munich  Germany  48.137500  11.575000   1512491.0  2022-12-31\n",
       "3    Cologne  Germany  50.936389   6.952778   1073096.0  2021-12-31\n",
       "4  Stuttgart  Germany  48.777500   9.180000    626275.0  2021-12-31\n",
       "5    Leipzig  Germany  51.340000  12.375000    601866.0  2021-12-31"
      ]
     },
     "execution_count": 11,
     "metadata": {},
     "output_type": "execute_result"
    }
   ],
   "source": [
    "cities_df = get_city_data(list_of_cities)\n",
    "cities_df"
   ]
  },
  {
   "cell_type": "code",
   "execution_count": 12,
   "id": "dbad3224-9a56-4f38-a17a-72a911f7f314",
   "metadata": {
    "tags": []
   },
   "outputs": [],
   "source": [
    "def clean_city_data(cities_df):\n",
    "    \n",
    "    cities_df['year_population'] = cities_df['timestamp'].apply(lambda x: re.search(r\"\\d{4}\", x).group() if re.search(r\"\\d{4}\", x) else None)\n",
    "    cities_df.drop(columns='timestamp', inplace=True)\n",
    "    \n",
    "    return cities_df"
   ]
  },
  {
   "cell_type": "code",
   "execution_count": 13,
   "id": "7ac6bcdd-a708-439b-ba81-5f947e191157",
   "metadata": {
    "tags": []
   },
   "outputs": [
    {
     "name": "stdout",
     "output_type": "stream",
     "text": [
      "<class 'pandas.core.frame.DataFrame'>\n",
      "RangeIndex: 6 entries, 0 to 5\n",
      "Data columns (total 6 columns):\n",
      " #   Column           Non-Null Count  Dtype  \n",
      "---  ------           --------------  -----  \n",
      " 0   city             6 non-null      object \n",
      " 1   country          6 non-null      object \n",
      " 2   latitude         6 non-null      float64\n",
      " 3   longitude        6 non-null      float64\n",
      " 4   population       6 non-null      float64\n",
      " 5   year_population  6 non-null      object \n",
      "dtypes: float64(3), object(3)\n",
      "memory usage: 420.0+ bytes\n"
     ]
    }
   ],
   "source": [
    "cities_df_final = clean_city_data(cities_df)\n",
    "cities_df_final.info()"
   ]
  },
  {
   "cell_type": "code",
   "execution_count": 14,
   "id": "6bf4cf05-8583-4abe-ac4b-5b2d7df0b144",
   "metadata": {
    "tags": []
   },
   "outputs": [
    {
     "data": {
      "text/html": [
       "<div>\n",
       "<style scoped>\n",
       "    .dataframe tbody tr th:only-of-type {\n",
       "        vertical-align: middle;\n",
       "    }\n",
       "\n",
       "    .dataframe tbody tr th {\n",
       "        vertical-align: top;\n",
       "    }\n",
       "\n",
       "    .dataframe thead th {\n",
       "        text-align: right;\n",
       "    }\n",
       "</style>\n",
       "<table border=\"1\" class=\"dataframe\">\n",
       "  <thead>\n",
       "    <tr style=\"text-align: right;\">\n",
       "      <th></th>\n",
       "      <th>city</th>\n",
       "      <th>country</th>\n",
       "      <th>latitude</th>\n",
       "      <th>longitude</th>\n",
       "      <th>population</th>\n",
       "      <th>year_population</th>\n",
       "    </tr>\n",
       "  </thead>\n",
       "  <tbody>\n",
       "    <tr>\n",
       "      <th>0</th>\n",
       "      <td>Berlin</td>\n",
       "      <td>Germany</td>\n",
       "      <td>52.520000</td>\n",
       "      <td>13.405000</td>\n",
       "      <td>3850809.0</td>\n",
       "      <td>2021</td>\n",
       "    </tr>\n",
       "    <tr>\n",
       "      <th>1</th>\n",
       "      <td>Frankfurt</td>\n",
       "      <td>Germany</td>\n",
       "      <td>50.110556</td>\n",
       "      <td>8.682222</td>\n",
       "      <td>773068.0</td>\n",
       "      <td>2022</td>\n",
       "    </tr>\n",
       "    <tr>\n",
       "      <th>2</th>\n",
       "      <td>Munich</td>\n",
       "      <td>Germany</td>\n",
       "      <td>48.137500</td>\n",
       "      <td>11.575000</td>\n",
       "      <td>1512491.0</td>\n",
       "      <td>2022</td>\n",
       "    </tr>\n",
       "    <tr>\n",
       "      <th>3</th>\n",
       "      <td>Cologne</td>\n",
       "      <td>Germany</td>\n",
       "      <td>50.936389</td>\n",
       "      <td>6.952778</td>\n",
       "      <td>1073096.0</td>\n",
       "      <td>2021</td>\n",
       "    </tr>\n",
       "    <tr>\n",
       "      <th>4</th>\n",
       "      <td>Stuttgart</td>\n",
       "      <td>Germany</td>\n",
       "      <td>48.777500</td>\n",
       "      <td>9.180000</td>\n",
       "      <td>626275.0</td>\n",
       "      <td>2021</td>\n",
       "    </tr>\n",
       "    <tr>\n",
       "      <th>5</th>\n",
       "      <td>Leipzig</td>\n",
       "      <td>Germany</td>\n",
       "      <td>51.340000</td>\n",
       "      <td>12.375000</td>\n",
       "      <td>601866.0</td>\n",
       "      <td>2021</td>\n",
       "    </tr>\n",
       "  </tbody>\n",
       "</table>\n",
       "</div>"
      ],
      "text/plain": [
       "        city  country   latitude  longitude  population year_population\n",
       "0     Berlin  Germany  52.520000  13.405000   3850809.0            2021\n",
       "1  Frankfurt  Germany  50.110556   8.682222    773068.0            2022\n",
       "2     Munich  Germany  48.137500  11.575000   1512491.0            2022\n",
       "3    Cologne  Germany  50.936389   6.952778   1073096.0            2021\n",
       "4  Stuttgart  Germany  48.777500   9.180000    626275.0            2021\n",
       "5    Leipzig  Germany  51.340000  12.375000    601866.0            2021"
      ]
     },
     "execution_count": 14,
     "metadata": {},
     "output_type": "execute_result"
    }
   ],
   "source": [
    "cities_df_final"
   ]
  },
  {
   "cell_type": "markdown",
   "id": "6ae00d7a-cd3a-421d-94e9-00157eb065b0",
   "metadata": {},
   "source": [
    "# Exporting Data into MySQL Local"
   ]
  },
  {
   "cell_type": "code",
   "execution_count": 15,
   "id": "db9cd628-05ee-432c-a79b-a7c65b635d55",
   "metadata": {
    "tags": []
   },
   "outputs": [],
   "source": [
    "import sqlalchemy\n",
    "from gans_con import con"
   ]
  },
  {
   "cell_type": "code",
   "execution_count": 95,
   "id": "696ecfab-f924-470c-ad1f-5bf89cf19e4c",
   "metadata": {
    "tags": []
   },
   "outputs": [
    {
     "data": {
      "text/plain": [
       "6"
      ]
     },
     "execution_count": 95,
     "metadata": {},
     "output_type": "execute_result"
    }
   ],
   "source": [
    "cities_df_final.to_sql('cities',\n",
    "              if_exists='append',\n",
    "              con=con,\n",
    "              index=False)"
   ]
  },
  {
   "cell_type": "markdown",
   "id": "8a38c104-221c-475b-8aca-be0233eb84cf",
   "metadata": {},
   "source": [
    "# Exporting Data into MySQL on the AWS Cloud server"
   ]
  },
  {
   "cell_type": "code",
   "execution_count": 23,
   "id": "0e5a7677-64eb-4d52-a7e9-efae179461c7",
   "metadata": {
    "tags": []
   },
   "outputs": [],
   "source": [
    "import sqlalchemy\n",
    "from gans_con_aws import con"
   ]
  },
  {
   "cell_type": "code",
   "execution_count": 24,
   "id": "e0e13fc4-3ba4-4764-a733-d9249eec2024",
   "metadata": {
    "tags": []
   },
   "outputs": [],
   "source": [
    "cities_df_2 = cities_df_final.iloc[:2]"
   ]
  },
  {
   "cell_type": "code",
   "execution_count": 30,
   "id": "f581d36c-9774-4b4b-8612-9a9d71d6efc9",
   "metadata": {
    "tags": []
   },
   "outputs": [
    {
     "data": {
      "text/plain": [
       "2"
      ]
     },
     "execution_count": 30,
     "metadata": {},
     "output_type": "execute_result"
    }
   ],
   "source": [
    "cities_df_2.to_sql('cities',\n",
    "              if_exists='append',\n",
    "              con=con,\n",
    "              index=False)"
   ]
  },
  {
   "cell_type": "code",
   "execution_count": null,
   "id": "68fa48a4-42f6-41e5-a133-65a7d65e4556",
   "metadata": {},
   "outputs": [],
   "source": []
  }
 ],
 "metadata": {
  "kernelspec": {
   "display_name": "Python 3 (ipykernel)",
   "language": "python",
   "name": "python3"
  },
  "language_info": {
   "codemirror_mode": {
    "name": "ipython",
    "version": 3
   },
   "file_extension": ".py",
   "mimetype": "text/x-python",
   "name": "python",
   "nbconvert_exporter": "python",
   "pygments_lexer": "ipython3",
   "version": "3.11.5"
  }
 },
 "nbformat": 4,
 "nbformat_minor": 5
}
